{
 "cells": [
  {
   "cell_type": "markdown",
   "id": "e9b2756b",
   "metadata": {},
   "source": [
    "# Exploração Inicial e Processamento de Dados\n",
    "\n",
    "Verificacao e pré-processamento de dados para utilização de modelos."
   ]
  },
  {
   "cell_type": "code",
   "execution_count": 1029,
   "id": "c1a68699",
   "metadata": {},
   "outputs": [],
   "source": [
    "import pandas as pd\n",
    "import numpy as np\n"
   ]
  },
  {
   "cell_type": "code",
   "execution_count": 1030,
   "id": "7bb097f3",
   "metadata": {},
   "outputs": [
    {
     "name": "stderr",
     "output_type": "stream",
     "text": [
      "C:\\Users\\Raphael\\AppData\\Local\\Temp\\ipykernel_25428\\710402656.py:2: DtypeWarning: Columns (26) have mixed types. Specify dtype option on import or set low_memory=False.\n",
      "  train_df = pd.read_csv('../data/raw/train.csv')\n"
     ]
    },
    {
     "data": {
      "application/vnd.microsoft.datawrangler.viewer.v0+json": {
       "columns": [
        {
         "name": "index",
         "rawType": "int64",
         "type": "integer"
        },
        {
         "name": "ID",
         "rawType": "object",
         "type": "string"
        },
        {
         "name": "Customer_ID",
         "rawType": "object",
         "type": "string"
        },
        {
         "name": "Month",
         "rawType": "object",
         "type": "string"
        },
        {
         "name": "Name",
         "rawType": "object",
         "type": "string"
        },
        {
         "name": "Age",
         "rawType": "object",
         "type": "string"
        },
        {
         "name": "SSN",
         "rawType": "object",
         "type": "string"
        },
        {
         "name": "Occupation",
         "rawType": "object",
         "type": "string"
        },
        {
         "name": "Annual_Income",
         "rawType": "object",
         "type": "string"
        },
        {
         "name": "Monthly_Inhand_Salary",
         "rawType": "float64",
         "type": "float"
        },
        {
         "name": "Num_Bank_Accounts",
         "rawType": "int64",
         "type": "integer"
        },
        {
         "name": "Num_Credit_Card",
         "rawType": "int64",
         "type": "integer"
        },
        {
         "name": "Interest_Rate",
         "rawType": "int64",
         "type": "integer"
        },
        {
         "name": "Num_of_Loan",
         "rawType": "object",
         "type": "string"
        },
        {
         "name": "Type_of_Loan",
         "rawType": "object",
         "type": "string"
        },
        {
         "name": "Delay_from_due_date",
         "rawType": "int64",
         "type": "integer"
        },
        {
         "name": "Num_of_Delayed_Payment",
         "rawType": "object",
         "type": "unknown"
        },
        {
         "name": "Changed_Credit_Limit",
         "rawType": "object",
         "type": "string"
        },
        {
         "name": "Num_Credit_Inquiries",
         "rawType": "float64",
         "type": "float"
        },
        {
         "name": "Credit_Mix",
         "rawType": "object",
         "type": "string"
        },
        {
         "name": "Outstanding_Debt",
         "rawType": "object",
         "type": "string"
        },
        {
         "name": "Credit_Utilization_Ratio",
         "rawType": "float64",
         "type": "float"
        },
        {
         "name": "Credit_History_Age",
         "rawType": "object",
         "type": "unknown"
        },
        {
         "name": "Payment_of_Min_Amount",
         "rawType": "object",
         "type": "string"
        },
        {
         "name": "Total_EMI_per_month",
         "rawType": "float64",
         "type": "float"
        },
        {
         "name": "Amount_invested_monthly",
         "rawType": "object",
         "type": "string"
        },
        {
         "name": "Payment_Behaviour",
         "rawType": "object",
         "type": "string"
        },
        {
         "name": "Monthly_Balance",
         "rawType": "object",
         "type": "string"
        },
        {
         "name": "Credit_Score",
         "rawType": "object",
         "type": "string"
        }
       ],
       "ref": "409c745e-b083-49d3-aa79-f83790dd5975",
       "rows": [
        [
         "0",
         "0x1602",
         "CUS_0xd40",
         "January",
         "Aaron Maashoh",
         "23",
         "821-00-0265",
         "Scientist",
         "19114.12",
         "1824.8433333333328",
         "3",
         "4",
         "3",
         "4",
         "Auto Loan, Credit-Builder Loan, Personal Loan, and Home Equity Loan",
         "3",
         "7",
         "11.27",
         "4.0",
         "_",
         "809.98",
         "26.822619623699016",
         "22 Years and 1 Months",
         "No",
         "49.57494921489417",
         "80.41529543900253",
         "High_spent_Small_value_payments",
         "312.49408867943663",
         "Good"
        ],
        [
         "1",
         "0x1603",
         "CUS_0xd40",
         "February",
         "Aaron Maashoh",
         "23",
         "821-00-0265",
         "Scientist",
         "19114.12",
         null,
         "3",
         "4",
         "3",
         "4",
         "Auto Loan, Credit-Builder Loan, Personal Loan, and Home Equity Loan",
         "-1",
         null,
         "11.27",
         "4.0",
         "Good",
         "809.98",
         "31.94496005538421",
         null,
         "No",
         "49.57494921489417",
         "118.28022162236736",
         "Low_spent_Large_value_payments",
         "284.62916249607184",
         "Good"
        ],
        [
         "2",
         "0x1604",
         "CUS_0xd40",
         "March",
         "Aaron Maashoh",
         "-500",
         "821-00-0265",
         "Scientist",
         "19114.12",
         null,
         "3",
         "4",
         "3",
         "4",
         "Auto Loan, Credit-Builder Loan, Personal Loan, and Home Equity Loan",
         "3",
         "7",
         "_",
         "4.0",
         "Good",
         "809.98",
         "28.60935202206993",
         "22 Years and 3 Months",
         "No",
         "49.57494921489417",
         "81.699521264648",
         "Low_spent_Medium_value_payments",
         "331.2098628537912",
         "Good"
        ],
        [
         "3",
         "0x1605",
         "CUS_0xd40",
         "April",
         "Aaron Maashoh",
         "23",
         "821-00-0265",
         "Scientist",
         "19114.12",
         null,
         "3",
         "4",
         "3",
         "4",
         "Auto Loan, Credit-Builder Loan, Personal Loan, and Home Equity Loan",
         "5",
         "4",
         "6.27",
         "4.0",
         "Good",
         "809.98",
         "31.377861869582357",
         "22 Years and 4 Months",
         "No",
         "49.57494921489417",
         "199.4580743910713",
         "Low_spent_Small_value_payments",
         "223.45130972736786",
         "Good"
        ],
        [
         "4",
         "0x1606",
         "CUS_0xd40",
         "May",
         "Aaron Maashoh",
         "23",
         "821-00-0265",
         "Scientist",
         "19114.12",
         "1824.8433333333328",
         "3",
         "4",
         "3",
         "4",
         "Auto Loan, Credit-Builder Loan, Personal Loan, and Home Equity Loan",
         "6",
         null,
         "11.27",
         "4.0",
         "Good",
         "809.98",
         "24.797346908844982",
         "22 Years and 5 Months",
         "No",
         "49.57494921489417",
         "41.420153086217326",
         "High_spent_Medium_value_payments",
         "341.48923103222177",
         "Good"
        ]
       ],
       "shape": {
        "columns": 28,
        "rows": 5
       }
      },
      "text/html": [
       "<div>\n",
       "<style scoped>\n",
       "    .dataframe tbody tr th:only-of-type {\n",
       "        vertical-align: middle;\n",
       "    }\n",
       "\n",
       "    .dataframe tbody tr th {\n",
       "        vertical-align: top;\n",
       "    }\n",
       "\n",
       "    .dataframe thead th {\n",
       "        text-align: right;\n",
       "    }\n",
       "</style>\n",
       "<table border=\"1\" class=\"dataframe\">\n",
       "  <thead>\n",
       "    <tr style=\"text-align: right;\">\n",
       "      <th></th>\n",
       "      <th>ID</th>\n",
       "      <th>Customer_ID</th>\n",
       "      <th>Month</th>\n",
       "      <th>Name</th>\n",
       "      <th>Age</th>\n",
       "      <th>SSN</th>\n",
       "      <th>Occupation</th>\n",
       "      <th>Annual_Income</th>\n",
       "      <th>Monthly_Inhand_Salary</th>\n",
       "      <th>Num_Bank_Accounts</th>\n",
       "      <th>...</th>\n",
       "      <th>Credit_Mix</th>\n",
       "      <th>Outstanding_Debt</th>\n",
       "      <th>Credit_Utilization_Ratio</th>\n",
       "      <th>Credit_History_Age</th>\n",
       "      <th>Payment_of_Min_Amount</th>\n",
       "      <th>Total_EMI_per_month</th>\n",
       "      <th>Amount_invested_monthly</th>\n",
       "      <th>Payment_Behaviour</th>\n",
       "      <th>Monthly_Balance</th>\n",
       "      <th>Credit_Score</th>\n",
       "    </tr>\n",
       "  </thead>\n",
       "  <tbody>\n",
       "    <tr>\n",
       "      <th>0</th>\n",
       "      <td>0x1602</td>\n",
       "      <td>CUS_0xd40</td>\n",
       "      <td>January</td>\n",
       "      <td>Aaron Maashoh</td>\n",
       "      <td>23</td>\n",
       "      <td>821-00-0265</td>\n",
       "      <td>Scientist</td>\n",
       "      <td>19114.12</td>\n",
       "      <td>1824.843333</td>\n",
       "      <td>3</td>\n",
       "      <td>...</td>\n",
       "      <td>_</td>\n",
       "      <td>809.98</td>\n",
       "      <td>26.822620</td>\n",
       "      <td>22 Years and 1 Months</td>\n",
       "      <td>No</td>\n",
       "      <td>49.574949</td>\n",
       "      <td>80.41529543900253</td>\n",
       "      <td>High_spent_Small_value_payments</td>\n",
       "      <td>312.49408867943663</td>\n",
       "      <td>Good</td>\n",
       "    </tr>\n",
       "    <tr>\n",
       "      <th>1</th>\n",
       "      <td>0x1603</td>\n",
       "      <td>CUS_0xd40</td>\n",
       "      <td>February</td>\n",
       "      <td>Aaron Maashoh</td>\n",
       "      <td>23</td>\n",
       "      <td>821-00-0265</td>\n",
       "      <td>Scientist</td>\n",
       "      <td>19114.12</td>\n",
       "      <td>NaN</td>\n",
       "      <td>3</td>\n",
       "      <td>...</td>\n",
       "      <td>Good</td>\n",
       "      <td>809.98</td>\n",
       "      <td>31.944960</td>\n",
       "      <td>NaN</td>\n",
       "      <td>No</td>\n",
       "      <td>49.574949</td>\n",
       "      <td>118.28022162236736</td>\n",
       "      <td>Low_spent_Large_value_payments</td>\n",
       "      <td>284.62916249607184</td>\n",
       "      <td>Good</td>\n",
       "    </tr>\n",
       "    <tr>\n",
       "      <th>2</th>\n",
       "      <td>0x1604</td>\n",
       "      <td>CUS_0xd40</td>\n",
       "      <td>March</td>\n",
       "      <td>Aaron Maashoh</td>\n",
       "      <td>-500</td>\n",
       "      <td>821-00-0265</td>\n",
       "      <td>Scientist</td>\n",
       "      <td>19114.12</td>\n",
       "      <td>NaN</td>\n",
       "      <td>3</td>\n",
       "      <td>...</td>\n",
       "      <td>Good</td>\n",
       "      <td>809.98</td>\n",
       "      <td>28.609352</td>\n",
       "      <td>22 Years and 3 Months</td>\n",
       "      <td>No</td>\n",
       "      <td>49.574949</td>\n",
       "      <td>81.699521264648</td>\n",
       "      <td>Low_spent_Medium_value_payments</td>\n",
       "      <td>331.2098628537912</td>\n",
       "      <td>Good</td>\n",
       "    </tr>\n",
       "    <tr>\n",
       "      <th>3</th>\n",
       "      <td>0x1605</td>\n",
       "      <td>CUS_0xd40</td>\n",
       "      <td>April</td>\n",
       "      <td>Aaron Maashoh</td>\n",
       "      <td>23</td>\n",
       "      <td>821-00-0265</td>\n",
       "      <td>Scientist</td>\n",
       "      <td>19114.12</td>\n",
       "      <td>NaN</td>\n",
       "      <td>3</td>\n",
       "      <td>...</td>\n",
       "      <td>Good</td>\n",
       "      <td>809.98</td>\n",
       "      <td>31.377862</td>\n",
       "      <td>22 Years and 4 Months</td>\n",
       "      <td>No</td>\n",
       "      <td>49.574949</td>\n",
       "      <td>199.4580743910713</td>\n",
       "      <td>Low_spent_Small_value_payments</td>\n",
       "      <td>223.45130972736786</td>\n",
       "      <td>Good</td>\n",
       "    </tr>\n",
       "    <tr>\n",
       "      <th>4</th>\n",
       "      <td>0x1606</td>\n",
       "      <td>CUS_0xd40</td>\n",
       "      <td>May</td>\n",
       "      <td>Aaron Maashoh</td>\n",
       "      <td>23</td>\n",
       "      <td>821-00-0265</td>\n",
       "      <td>Scientist</td>\n",
       "      <td>19114.12</td>\n",
       "      <td>1824.843333</td>\n",
       "      <td>3</td>\n",
       "      <td>...</td>\n",
       "      <td>Good</td>\n",
       "      <td>809.98</td>\n",
       "      <td>24.797347</td>\n",
       "      <td>22 Years and 5 Months</td>\n",
       "      <td>No</td>\n",
       "      <td>49.574949</td>\n",
       "      <td>41.420153086217326</td>\n",
       "      <td>High_spent_Medium_value_payments</td>\n",
       "      <td>341.48923103222177</td>\n",
       "      <td>Good</td>\n",
       "    </tr>\n",
       "  </tbody>\n",
       "</table>\n",
       "<p>5 rows × 28 columns</p>\n",
       "</div>"
      ],
      "text/plain": [
       "       ID Customer_ID     Month           Name   Age          SSN Occupation  \\\n",
       "0  0x1602   CUS_0xd40   January  Aaron Maashoh    23  821-00-0265  Scientist   \n",
       "1  0x1603   CUS_0xd40  February  Aaron Maashoh    23  821-00-0265  Scientist   \n",
       "2  0x1604   CUS_0xd40     March  Aaron Maashoh  -500  821-00-0265  Scientist   \n",
       "3  0x1605   CUS_0xd40     April  Aaron Maashoh    23  821-00-0265  Scientist   \n",
       "4  0x1606   CUS_0xd40       May  Aaron Maashoh    23  821-00-0265  Scientist   \n",
       "\n",
       "  Annual_Income  Monthly_Inhand_Salary  Num_Bank_Accounts  ...  Credit_Mix  \\\n",
       "0      19114.12            1824.843333                  3  ...           _   \n",
       "1      19114.12                    NaN                  3  ...        Good   \n",
       "2      19114.12                    NaN                  3  ...        Good   \n",
       "3      19114.12                    NaN                  3  ...        Good   \n",
       "4      19114.12            1824.843333                  3  ...        Good   \n",
       "\n",
       "   Outstanding_Debt Credit_Utilization_Ratio     Credit_History_Age  \\\n",
       "0            809.98                26.822620  22 Years and 1 Months   \n",
       "1            809.98                31.944960                    NaN   \n",
       "2            809.98                28.609352  22 Years and 3 Months   \n",
       "3            809.98                31.377862  22 Years and 4 Months   \n",
       "4            809.98                24.797347  22 Years and 5 Months   \n",
       "\n",
       "   Payment_of_Min_Amount Total_EMI_per_month Amount_invested_monthly  \\\n",
       "0                     No           49.574949       80.41529543900253   \n",
       "1                     No           49.574949      118.28022162236736   \n",
       "2                     No           49.574949         81.699521264648   \n",
       "3                     No           49.574949       199.4580743910713   \n",
       "4                     No           49.574949      41.420153086217326   \n",
       "\n",
       "                  Payment_Behaviour     Monthly_Balance Credit_Score  \n",
       "0   High_spent_Small_value_payments  312.49408867943663         Good  \n",
       "1    Low_spent_Large_value_payments  284.62916249607184         Good  \n",
       "2   Low_spent_Medium_value_payments   331.2098628537912         Good  \n",
       "3    Low_spent_Small_value_payments  223.45130972736786         Good  \n",
       "4  High_spent_Medium_value_payments  341.48923103222177         Good  \n",
       "\n",
       "[5 rows x 28 columns]"
      ]
     },
     "execution_count": 1030,
     "metadata": {},
     "output_type": "execute_result"
    }
   ],
   "source": [
    "# Carregando o dataset de treino\n",
    "train_df = pd.read_csv('../data/raw/train.csv')\n",
    "train_df.head()"
   ]
  },
  {
   "cell_type": "code",
   "execution_count": 1031,
   "id": "36102fe2",
   "metadata": {},
   "outputs": [
    {
     "name": "stdout",
     "output_type": "stream",
     "text": [
      "<class 'pandas.core.frame.DataFrame'>\n",
      "RangeIndex: 100000 entries, 0 to 99999\n",
      "Data columns (total 28 columns):\n",
      " #   Column                    Non-Null Count   Dtype  \n",
      "---  ------                    --------------   -----  \n",
      " 0   ID                        100000 non-null  object \n",
      " 1   Customer_ID               100000 non-null  object \n",
      " 2   Month                     100000 non-null  object \n",
      " 3   Name                      90015 non-null   object \n",
      " 4   Age                       100000 non-null  object \n",
      " 5   SSN                       100000 non-null  object \n",
      " 6   Occupation                100000 non-null  object \n",
      " 7   Annual_Income             100000 non-null  object \n",
      " 8   Monthly_Inhand_Salary     84998 non-null   float64\n",
      " 9   Num_Bank_Accounts         100000 non-null  int64  \n",
      " 10  Num_Credit_Card           100000 non-null  int64  \n",
      " 11  Interest_Rate             100000 non-null  int64  \n",
      " 12  Num_of_Loan               100000 non-null  object \n",
      " 13  Type_of_Loan              88592 non-null   object \n",
      " 14  Delay_from_due_date       100000 non-null  int64  \n",
      " 15  Num_of_Delayed_Payment    92998 non-null   object \n",
      " 16  Changed_Credit_Limit      100000 non-null  object \n",
      " 17  Num_Credit_Inquiries      98035 non-null   float64\n",
      " 18  Credit_Mix                100000 non-null  object \n",
      " 19  Outstanding_Debt          100000 non-null  object \n",
      " 20  Credit_Utilization_Ratio  100000 non-null  float64\n",
      " 21  Credit_History_Age        90970 non-null   object \n",
      " 22  Payment_of_Min_Amount     100000 non-null  object \n",
      " 23  Total_EMI_per_month       100000 non-null  float64\n",
      " 24  Amount_invested_monthly   95521 non-null   object \n",
      " 25  Payment_Behaviour         100000 non-null  object \n",
      " 26  Monthly_Balance           98800 non-null   object \n",
      " 27  Credit_Score              100000 non-null  object \n",
      "dtypes: float64(4), int64(4), object(20)\n",
      "memory usage: 21.4+ MB\n"
     ]
    }
   ],
   "source": [
    "train_df.info()"
   ]
  },
  {
   "cell_type": "code",
   "execution_count": 1032,
   "id": "da48965c",
   "metadata": {},
   "outputs": [
    {
     "data": {
      "text/plain": [
       "(100000, 28)"
      ]
     },
     "execution_count": 1032,
     "metadata": {},
     "output_type": "execute_result"
    }
   ],
   "source": [
    "train_df.shape"
   ]
  },
  {
   "cell_type": "markdown",
   "id": "0ccab4dd",
   "metadata": {},
   "source": [
    "### Entendendo os dados\n",
    "\n",
    "ID - Representa uma identificação exclusiva de uma entrada\n",
    "\n",
    "Customer_ID - Representa uma identificação única de uma pessoa\n",
    "\n",
    "Month - Representa o mês do ano\n",
    "\n",
    "Name - Representa o nome de uma pessoa\n",
    "\n",
    "Age - Representa a idade da pessoa\n",
    "\n",
    "SSN - Representa o número do seguro social de uma pessoa\n",
    "\n",
    "Occupation - Representa a ocupação da pessoa\n",
    "\n",
    "Annual_Income - Representa a renda anual da pessoa\n",
    "\n",
    "Monthly_Inhand_Salary - Representa o salário base mensal de uma pessoa\n",
    "\n",
    "Num_Bank_Accounts - Representa o número de contas bancárias que uma pessoa possui\n",
    "\n",
    "Num_Credit_Card - Representa o número de cartoes de credito que uma pessoa possui\n",
    "\n",
    "Interest_Rate - Representa a taxa de juro\n",
    "\n",
    "Num_of_Loan - Representa a quantidade de emprestimos que uma pessoa possui\n",
    "\n",
    "Type_of_Loan - Representa o tipo de emprestimo que uma pessoa possui\n",
    "\n",
    "Delay_from_due_date - Representa o atraso do pagamento na data do vencimento\n",
    "\n",
    "Num_of_Delayed_Payment - Representa o numero de pagamentos em atraso\n",
    "\n",
    "Changed_Credit_Limit - Representa a alteracao do limite de credito\n",
    "\n",
    "Num_Credit_Inquiries - Representa a quantidade de consultas de credito\n",
    "\n",
    "Credit_Mix - Representa a diversidade de creditos\n",
    "\n",
    "Outstanding_Debt - Representa a divida pendente\n",
    "\n",
    "Credit_Utilization_Ratio - Representa a taxa de utilizacao de credito\n",
    "\n",
    "Credit_History_Age - Representa o tempo do historico de credito\n",
    "\n",
    "Payment_of_Min_Amount - Representa o pagamento minido do valor\n",
    "\n",
    "Total_EMI_per_month - Representa o total da parcela equivalente por mes\n",
    "\n",
    "Amount_invested_monthly - Representa o valor investido mensalmente\n",
    "\n",
    "Payment_Behaviour - Representa o comportamento do pagamento \n",
    "\n",
    "Monthly_Balance - Representa o saldo mensal        \n",
    "\n",
    "Credit_Score -  Representa o score de credito             \n"
   ]
  },
  {
   "cell_type": "code",
   "execution_count": 1033,
   "id": "44d95cfe",
   "metadata": {},
   "outputs": [
    {
     "data": {
      "application/vnd.microsoft.datawrangler.viewer.v0+json": {
       "columns": [
        {
         "name": "index",
         "rawType": "object",
         "type": "string"
        },
        {
         "name": "0",
         "rawType": "int64",
         "type": "integer"
        }
       ],
       "ref": "1f611bd7-67b2-415f-bdf4-d8d58c149795",
       "rows": [
        [
         "ID",
         "0"
        ],
        [
         "Customer_ID",
         "0"
        ],
        [
         "Month",
         "0"
        ],
        [
         "Name",
         "9985"
        ],
        [
         "Age",
         "0"
        ],
        [
         "SSN",
         "0"
        ],
        [
         "Occupation",
         "0"
        ],
        [
         "Annual_Income",
         "0"
        ],
        [
         "Monthly_Inhand_Salary",
         "15002"
        ],
        [
         "Num_Bank_Accounts",
         "0"
        ],
        [
         "Num_Credit_Card",
         "0"
        ],
        [
         "Interest_Rate",
         "0"
        ],
        [
         "Num_of_Loan",
         "0"
        ],
        [
         "Type_of_Loan",
         "11408"
        ],
        [
         "Delay_from_due_date",
         "0"
        ],
        [
         "Num_of_Delayed_Payment",
         "7002"
        ],
        [
         "Changed_Credit_Limit",
         "0"
        ],
        [
         "Num_Credit_Inquiries",
         "1965"
        ],
        [
         "Credit_Mix",
         "0"
        ],
        [
         "Outstanding_Debt",
         "0"
        ],
        [
         "Credit_Utilization_Ratio",
         "0"
        ],
        [
         "Credit_History_Age",
         "9030"
        ],
        [
         "Payment_of_Min_Amount",
         "0"
        ],
        [
         "Total_EMI_per_month",
         "0"
        ],
        [
         "Amount_invested_monthly",
         "4479"
        ],
        [
         "Payment_Behaviour",
         "0"
        ],
        [
         "Monthly_Balance",
         "1200"
        ],
        [
         "Credit_Score",
         "0"
        ]
       ],
       "shape": {
        "columns": 1,
        "rows": 28
       }
      },
      "text/plain": [
       "ID                              0\n",
       "Customer_ID                     0\n",
       "Month                           0\n",
       "Name                         9985\n",
       "Age                             0\n",
       "SSN                             0\n",
       "Occupation                      0\n",
       "Annual_Income                   0\n",
       "Monthly_Inhand_Salary       15002\n",
       "Num_Bank_Accounts               0\n",
       "Num_Credit_Card                 0\n",
       "Interest_Rate                   0\n",
       "Num_of_Loan                     0\n",
       "Type_of_Loan                11408\n",
       "Delay_from_due_date             0\n",
       "Num_of_Delayed_Payment       7002\n",
       "Changed_Credit_Limit            0\n",
       "Num_Credit_Inquiries         1965\n",
       "Credit_Mix                      0\n",
       "Outstanding_Debt                0\n",
       "Credit_Utilization_Ratio        0\n",
       "Credit_History_Age           9030\n",
       "Payment_of_Min_Amount           0\n",
       "Total_EMI_per_month             0\n",
       "Amount_invested_monthly      4479\n",
       "Payment_Behaviour               0\n",
       "Monthly_Balance              1200\n",
       "Credit_Score                    0\n",
       "dtype: int64"
      ]
     },
     "execution_count": 1033,
     "metadata": {},
     "output_type": "execute_result"
    }
   ],
   "source": [
    "train_df.isnull().sum()"
   ]
  },
  {
   "cell_type": "markdown",
   "id": "90422868",
   "metadata": {},
   "source": [
    "## Pré-Processamento\n",
    "\n",
    "Padronizacao dos dados, consistindo nas etapas de:\n",
    "\n",
    "* Padronizacao de caixa baixa (colunas)\n",
    "* Transfomaçao de valores _string para _float\n",
    "* Transformaçao de features\n"
   ]
  },
  {
   "cell_type": "code",
   "execution_count": 1034,
   "id": "0453ebd6",
   "metadata": {},
   "outputs": [
    {
     "data": {
      "application/vnd.microsoft.datawrangler.viewer.v0+json": {
       "columns": [
        {
         "name": "index",
         "rawType": "int64",
         "type": "integer"
        },
        {
         "name": "id",
         "rawType": "object",
         "type": "string"
        },
        {
         "name": "customer_id",
         "rawType": "object",
         "type": "string"
        },
        {
         "name": "month",
         "rawType": "object",
         "type": "string"
        },
        {
         "name": "name",
         "rawType": "object",
         "type": "string"
        },
        {
         "name": "age",
         "rawType": "object",
         "type": "string"
        },
        {
         "name": "ssn",
         "rawType": "object",
         "type": "string"
        },
        {
         "name": "occupation",
         "rawType": "object",
         "type": "string"
        },
        {
         "name": "annual_income",
         "rawType": "object",
         "type": "string"
        },
        {
         "name": "monthly_inhand_salary",
         "rawType": "float64",
         "type": "float"
        },
        {
         "name": "num_bank_accounts",
         "rawType": "int64",
         "type": "integer"
        },
        {
         "name": "num_credit_card",
         "rawType": "int64",
         "type": "integer"
        },
        {
         "name": "interest_rate",
         "rawType": "int64",
         "type": "integer"
        },
        {
         "name": "num_of_loan",
         "rawType": "object",
         "type": "string"
        },
        {
         "name": "type_of_loan",
         "rawType": "object",
         "type": "string"
        },
        {
         "name": "delay_from_due_date",
         "rawType": "int64",
         "type": "integer"
        },
        {
         "name": "num_of_delayed_payment",
         "rawType": "object",
         "type": "unknown"
        },
        {
         "name": "changed_credit_limit",
         "rawType": "object",
         "type": "string"
        },
        {
         "name": "num_credit_inquiries",
         "rawType": "float64",
         "type": "float"
        },
        {
         "name": "credit_mix",
         "rawType": "object",
         "type": "string"
        },
        {
         "name": "outstanding_debt",
         "rawType": "object",
         "type": "string"
        },
        {
         "name": "credit_utilization_ratio",
         "rawType": "float64",
         "type": "float"
        },
        {
         "name": "credit_history_age",
         "rawType": "object",
         "type": "unknown"
        },
        {
         "name": "payment_of_min_amount",
         "rawType": "object",
         "type": "string"
        },
        {
         "name": "total_emi_per_month",
         "rawType": "float64",
         "type": "float"
        },
        {
         "name": "amount_invested_monthly",
         "rawType": "object",
         "type": "string"
        },
        {
         "name": "payment_behaviour",
         "rawType": "object",
         "type": "string"
        },
        {
         "name": "monthly_balance",
         "rawType": "object",
         "type": "string"
        },
        {
         "name": "credit_score",
         "rawType": "object",
         "type": "string"
        }
       ],
       "ref": "87bbde12-62f7-4a28-980f-873289d86cab",
       "rows": [
        [
         "0",
         "0x1602",
         "CUS_0xd40",
         "January",
         "Aaron Maashoh",
         "23",
         "821-00-0265",
         "Scientist",
         "19114.12",
         "1824.8433333333328",
         "3",
         "4",
         "3",
         "4",
         "Auto Loan, Credit-Builder Loan, Personal Loan, and Home Equity Loan",
         "3",
         "7",
         "11.27",
         "4.0",
         "_",
         "809.98",
         "26.822619623699016",
         "22 Years and 1 Months",
         "No",
         "49.57494921489417",
         "80.41529543900253",
         "High_spent_Small_value_payments",
         "312.49408867943663",
         "Good"
        ],
        [
         "1",
         "0x1603",
         "CUS_0xd40",
         "February",
         "Aaron Maashoh",
         "23",
         "821-00-0265",
         "Scientist",
         "19114.12",
         null,
         "3",
         "4",
         "3",
         "4",
         "Auto Loan, Credit-Builder Loan, Personal Loan, and Home Equity Loan",
         "-1",
         null,
         "11.27",
         "4.0",
         "Good",
         "809.98",
         "31.94496005538421",
         null,
         "No",
         "49.57494921489417",
         "118.28022162236736",
         "Low_spent_Large_value_payments",
         "284.62916249607184",
         "Good"
        ],
        [
         "2",
         "0x1604",
         "CUS_0xd40",
         "March",
         "Aaron Maashoh",
         "-500",
         "821-00-0265",
         "Scientist",
         "19114.12",
         null,
         "3",
         "4",
         "3",
         "4",
         "Auto Loan, Credit-Builder Loan, Personal Loan, and Home Equity Loan",
         "3",
         "7",
         "_",
         "4.0",
         "Good",
         "809.98",
         "28.60935202206993",
         "22 Years and 3 Months",
         "No",
         "49.57494921489417",
         "81.699521264648",
         "Low_spent_Medium_value_payments",
         "331.2098628537912",
         "Good"
        ],
        [
         "3",
         "0x1605",
         "CUS_0xd40",
         "April",
         "Aaron Maashoh",
         "23",
         "821-00-0265",
         "Scientist",
         "19114.12",
         null,
         "3",
         "4",
         "3",
         "4",
         "Auto Loan, Credit-Builder Loan, Personal Loan, and Home Equity Loan",
         "5",
         "4",
         "6.27",
         "4.0",
         "Good",
         "809.98",
         "31.377861869582357",
         "22 Years and 4 Months",
         "No",
         "49.57494921489417",
         "199.4580743910713",
         "Low_spent_Small_value_payments",
         "223.45130972736786",
         "Good"
        ],
        [
         "4",
         "0x1606",
         "CUS_0xd40",
         "May",
         "Aaron Maashoh",
         "23",
         "821-00-0265",
         "Scientist",
         "19114.12",
         "1824.8433333333328",
         "3",
         "4",
         "3",
         "4",
         "Auto Loan, Credit-Builder Loan, Personal Loan, and Home Equity Loan",
         "6",
         null,
         "11.27",
         "4.0",
         "Good",
         "809.98",
         "24.797346908844982",
         "22 Years and 5 Months",
         "No",
         "49.57494921489417",
         "41.420153086217326",
         "High_spent_Medium_value_payments",
         "341.48923103222177",
         "Good"
        ]
       ],
       "shape": {
        "columns": 28,
        "rows": 5
       }
      },
      "text/html": [
       "<div>\n",
       "<style scoped>\n",
       "    .dataframe tbody tr th:only-of-type {\n",
       "        vertical-align: middle;\n",
       "    }\n",
       "\n",
       "    .dataframe tbody tr th {\n",
       "        vertical-align: top;\n",
       "    }\n",
       "\n",
       "    .dataframe thead th {\n",
       "        text-align: right;\n",
       "    }\n",
       "</style>\n",
       "<table border=\"1\" class=\"dataframe\">\n",
       "  <thead>\n",
       "    <tr style=\"text-align: right;\">\n",
       "      <th></th>\n",
       "      <th>id</th>\n",
       "      <th>customer_id</th>\n",
       "      <th>month</th>\n",
       "      <th>name</th>\n",
       "      <th>age</th>\n",
       "      <th>ssn</th>\n",
       "      <th>occupation</th>\n",
       "      <th>annual_income</th>\n",
       "      <th>monthly_inhand_salary</th>\n",
       "      <th>num_bank_accounts</th>\n",
       "      <th>...</th>\n",
       "      <th>credit_mix</th>\n",
       "      <th>outstanding_debt</th>\n",
       "      <th>credit_utilization_ratio</th>\n",
       "      <th>credit_history_age</th>\n",
       "      <th>payment_of_min_amount</th>\n",
       "      <th>total_emi_per_month</th>\n",
       "      <th>amount_invested_monthly</th>\n",
       "      <th>payment_behaviour</th>\n",
       "      <th>monthly_balance</th>\n",
       "      <th>credit_score</th>\n",
       "    </tr>\n",
       "  </thead>\n",
       "  <tbody>\n",
       "    <tr>\n",
       "      <th>0</th>\n",
       "      <td>0x1602</td>\n",
       "      <td>CUS_0xd40</td>\n",
       "      <td>January</td>\n",
       "      <td>Aaron Maashoh</td>\n",
       "      <td>23</td>\n",
       "      <td>821-00-0265</td>\n",
       "      <td>Scientist</td>\n",
       "      <td>19114.12</td>\n",
       "      <td>1824.843333</td>\n",
       "      <td>3</td>\n",
       "      <td>...</td>\n",
       "      <td>_</td>\n",
       "      <td>809.98</td>\n",
       "      <td>26.822620</td>\n",
       "      <td>22 Years and 1 Months</td>\n",
       "      <td>No</td>\n",
       "      <td>49.574949</td>\n",
       "      <td>80.41529543900253</td>\n",
       "      <td>High_spent_Small_value_payments</td>\n",
       "      <td>312.49408867943663</td>\n",
       "      <td>Good</td>\n",
       "    </tr>\n",
       "    <tr>\n",
       "      <th>1</th>\n",
       "      <td>0x1603</td>\n",
       "      <td>CUS_0xd40</td>\n",
       "      <td>February</td>\n",
       "      <td>Aaron Maashoh</td>\n",
       "      <td>23</td>\n",
       "      <td>821-00-0265</td>\n",
       "      <td>Scientist</td>\n",
       "      <td>19114.12</td>\n",
       "      <td>NaN</td>\n",
       "      <td>3</td>\n",
       "      <td>...</td>\n",
       "      <td>Good</td>\n",
       "      <td>809.98</td>\n",
       "      <td>31.944960</td>\n",
       "      <td>NaN</td>\n",
       "      <td>No</td>\n",
       "      <td>49.574949</td>\n",
       "      <td>118.28022162236736</td>\n",
       "      <td>Low_spent_Large_value_payments</td>\n",
       "      <td>284.62916249607184</td>\n",
       "      <td>Good</td>\n",
       "    </tr>\n",
       "    <tr>\n",
       "      <th>2</th>\n",
       "      <td>0x1604</td>\n",
       "      <td>CUS_0xd40</td>\n",
       "      <td>March</td>\n",
       "      <td>Aaron Maashoh</td>\n",
       "      <td>-500</td>\n",
       "      <td>821-00-0265</td>\n",
       "      <td>Scientist</td>\n",
       "      <td>19114.12</td>\n",
       "      <td>NaN</td>\n",
       "      <td>3</td>\n",
       "      <td>...</td>\n",
       "      <td>Good</td>\n",
       "      <td>809.98</td>\n",
       "      <td>28.609352</td>\n",
       "      <td>22 Years and 3 Months</td>\n",
       "      <td>No</td>\n",
       "      <td>49.574949</td>\n",
       "      <td>81.699521264648</td>\n",
       "      <td>Low_spent_Medium_value_payments</td>\n",
       "      <td>331.2098628537912</td>\n",
       "      <td>Good</td>\n",
       "    </tr>\n",
       "    <tr>\n",
       "      <th>3</th>\n",
       "      <td>0x1605</td>\n",
       "      <td>CUS_0xd40</td>\n",
       "      <td>April</td>\n",
       "      <td>Aaron Maashoh</td>\n",
       "      <td>23</td>\n",
       "      <td>821-00-0265</td>\n",
       "      <td>Scientist</td>\n",
       "      <td>19114.12</td>\n",
       "      <td>NaN</td>\n",
       "      <td>3</td>\n",
       "      <td>...</td>\n",
       "      <td>Good</td>\n",
       "      <td>809.98</td>\n",
       "      <td>31.377862</td>\n",
       "      <td>22 Years and 4 Months</td>\n",
       "      <td>No</td>\n",
       "      <td>49.574949</td>\n",
       "      <td>199.4580743910713</td>\n",
       "      <td>Low_spent_Small_value_payments</td>\n",
       "      <td>223.45130972736786</td>\n",
       "      <td>Good</td>\n",
       "    </tr>\n",
       "    <tr>\n",
       "      <th>4</th>\n",
       "      <td>0x1606</td>\n",
       "      <td>CUS_0xd40</td>\n",
       "      <td>May</td>\n",
       "      <td>Aaron Maashoh</td>\n",
       "      <td>23</td>\n",
       "      <td>821-00-0265</td>\n",
       "      <td>Scientist</td>\n",
       "      <td>19114.12</td>\n",
       "      <td>1824.843333</td>\n",
       "      <td>3</td>\n",
       "      <td>...</td>\n",
       "      <td>Good</td>\n",
       "      <td>809.98</td>\n",
       "      <td>24.797347</td>\n",
       "      <td>22 Years and 5 Months</td>\n",
       "      <td>No</td>\n",
       "      <td>49.574949</td>\n",
       "      <td>41.420153086217326</td>\n",
       "      <td>High_spent_Medium_value_payments</td>\n",
       "      <td>341.48923103222177</td>\n",
       "      <td>Good</td>\n",
       "    </tr>\n",
       "  </tbody>\n",
       "</table>\n",
       "<p>5 rows × 28 columns</p>\n",
       "</div>"
      ],
      "text/plain": [
       "       id customer_id     month           name   age          ssn occupation  \\\n",
       "0  0x1602   CUS_0xd40   January  Aaron Maashoh    23  821-00-0265  Scientist   \n",
       "1  0x1603   CUS_0xd40  February  Aaron Maashoh    23  821-00-0265  Scientist   \n",
       "2  0x1604   CUS_0xd40     March  Aaron Maashoh  -500  821-00-0265  Scientist   \n",
       "3  0x1605   CUS_0xd40     April  Aaron Maashoh    23  821-00-0265  Scientist   \n",
       "4  0x1606   CUS_0xd40       May  Aaron Maashoh    23  821-00-0265  Scientist   \n",
       "\n",
       "  annual_income  monthly_inhand_salary  num_bank_accounts  ...  credit_mix  \\\n",
       "0      19114.12            1824.843333                  3  ...           _   \n",
       "1      19114.12                    NaN                  3  ...        Good   \n",
       "2      19114.12                    NaN                  3  ...        Good   \n",
       "3      19114.12                    NaN                  3  ...        Good   \n",
       "4      19114.12            1824.843333                  3  ...        Good   \n",
       "\n",
       "   outstanding_debt credit_utilization_ratio     credit_history_age  \\\n",
       "0            809.98                26.822620  22 Years and 1 Months   \n",
       "1            809.98                31.944960                    NaN   \n",
       "2            809.98                28.609352  22 Years and 3 Months   \n",
       "3            809.98                31.377862  22 Years and 4 Months   \n",
       "4            809.98                24.797347  22 Years and 5 Months   \n",
       "\n",
       "   payment_of_min_amount total_emi_per_month amount_invested_monthly  \\\n",
       "0                     No           49.574949       80.41529543900253   \n",
       "1                     No           49.574949      118.28022162236736   \n",
       "2                     No           49.574949         81.699521264648   \n",
       "3                     No           49.574949       199.4580743910713   \n",
       "4                     No           49.574949      41.420153086217326   \n",
       "\n",
       "                  payment_behaviour     monthly_balance credit_score  \n",
       "0   High_spent_Small_value_payments  312.49408867943663         Good  \n",
       "1    Low_spent_Large_value_payments  284.62916249607184         Good  \n",
       "2   Low_spent_Medium_value_payments   331.2098628537912         Good  \n",
       "3    Low_spent_Small_value_payments  223.45130972736786         Good  \n",
       "4  High_spent_Medium_value_payments  341.48923103222177         Good  \n",
       "\n",
       "[5 rows x 28 columns]"
      ]
     },
     "execution_count": 1034,
     "metadata": {},
     "output_type": "execute_result"
    }
   ],
   "source": [
    "df_transformed = train_df.copy()\n",
    "df_transformed.columns = train_df.columns.str.lower()\n",
    "\n",
    "df_transformed.head()"
   ]
  },
  {
   "cell_type": "code",
   "execution_count": 1035,
   "id": "55b5b86f",
   "metadata": {},
   "outputs": [
    {
     "data": {
      "application/vnd.microsoft.datawrangler.viewer.v0+json": {
       "columns": [
        {
         "name": "index",
         "rawType": "object",
         "type": "string"
        },
        {
         "name": "0",
         "rawType": "int64",
         "type": "integer"
        }
       ],
       "ref": "ab802e8c-8c15-4399-a8f2-75a78c2e24e8",
       "rows": [
        [
         "id",
         "0"
        ],
        [
         "customer_id",
         "0"
        ],
        [
         "month",
         "0"
        ],
        [
         "name",
         "9985"
        ],
        [
         "age",
         "0"
        ],
        [
         "ssn",
         "0"
        ],
        [
         "occupation",
         "0"
        ],
        [
         "annual_income",
         "0"
        ],
        [
         "monthly_inhand_salary",
         "15002"
        ],
        [
         "num_bank_accounts",
         "0"
        ],
        [
         "num_credit_card",
         "0"
        ],
        [
         "interest_rate",
         "0"
        ],
        [
         "num_of_loan",
         "0"
        ],
        [
         "type_of_loan",
         "11408"
        ],
        [
         "delay_from_due_date",
         "0"
        ],
        [
         "num_of_delayed_payment",
         "7002"
        ],
        [
         "changed_credit_limit",
         "0"
        ],
        [
         "num_credit_inquiries",
         "1965"
        ],
        [
         "credit_mix",
         "0"
        ],
        [
         "outstanding_debt",
         "0"
        ],
        [
         "credit_utilization_ratio",
         "0"
        ],
        [
         "credit_history_age",
         "9030"
        ],
        [
         "payment_of_min_amount",
         "0"
        ],
        [
         "total_emi_per_month",
         "0"
        ],
        [
         "amount_invested_monthly",
         "4479"
        ],
        [
         "payment_behaviour",
         "0"
        ],
        [
         "monthly_balance",
         "1200"
        ],
        [
         "credit_score",
         "0"
        ]
       ],
       "shape": {
        "columns": 1,
        "rows": 28
       }
      },
      "text/plain": [
       "id                              0\n",
       "customer_id                     0\n",
       "month                           0\n",
       "name                         9985\n",
       "age                             0\n",
       "ssn                             0\n",
       "occupation                      0\n",
       "annual_income                   0\n",
       "monthly_inhand_salary       15002\n",
       "num_bank_accounts               0\n",
       "num_credit_card                 0\n",
       "interest_rate                   0\n",
       "num_of_loan                     0\n",
       "type_of_loan                11408\n",
       "delay_from_due_date             0\n",
       "num_of_delayed_payment       7002\n",
       "changed_credit_limit            0\n",
       "num_credit_inquiries         1965\n",
       "credit_mix                      0\n",
       "outstanding_debt                0\n",
       "credit_utilization_ratio        0\n",
       "credit_history_age           9030\n",
       "payment_of_min_amount           0\n",
       "total_emi_per_month             0\n",
       "amount_invested_monthly      4479\n",
       "payment_behaviour               0\n",
       "monthly_balance              1200\n",
       "credit_score                    0\n",
       "dtype: int64"
      ]
     },
     "execution_count": 1035,
     "metadata": {},
     "output_type": "execute_result"
    }
   ],
   "source": [
    "df_transformed.isnull().sum()"
   ]
  },
  {
   "cell_type": "code",
   "execution_count": 1036,
   "id": "c63759df",
   "metadata": {},
   "outputs": [
    {
     "data": {
      "application/vnd.microsoft.datawrangler.viewer.v0+json": {
       "columns": [
        {
         "name": "index",
         "rawType": "object",
         "type": "string"
        },
        {
         "name": "monthly_inhand_salary",
         "rawType": "float64",
         "type": "float"
        },
        {
         "name": "num_bank_accounts",
         "rawType": "float64",
         "type": "float"
        },
        {
         "name": "num_credit_card",
         "rawType": "float64",
         "type": "float"
        },
        {
         "name": "interest_rate",
         "rawType": "float64",
         "type": "float"
        },
        {
         "name": "delay_from_due_date",
         "rawType": "float64",
         "type": "float"
        },
        {
         "name": "num_credit_inquiries",
         "rawType": "float64",
         "type": "float"
        },
        {
         "name": "credit_utilization_ratio",
         "rawType": "float64",
         "type": "float"
        },
        {
         "name": "total_emi_per_month",
         "rawType": "float64",
         "type": "float"
        }
       ],
       "ref": "8dfaf7d0-b0e2-41a3-81c2-7849bcdab66f",
       "rows": [
        [
         "count",
         "84998.0",
         "100000.0",
         "100000.0",
         "100000.0",
         "100000.0",
         "98035.0",
         "100000.0",
         "100000.0"
        ],
        [
         "mean",
         "4194.170849600523",
         "17.09128",
         "22.47443",
         "72.46604",
         "21.06878",
         "27.75425103279441",
         "32.2851725189436",
         "1403.1182166159933"
        ],
        [
         "std",
         "3183.6861668732963",
         "117.40483442734045",
         "129.05741011011912",
         "466.4226212217413",
         "14.860104223677403",
         "193.17733898001126",
         "5.116875070150902",
         "8306.041270321295"
        ],
        [
         "min",
         "303.6454166666666",
         "-1.0",
         "0.0",
         "1.0",
         "-5.0",
         "0.0",
         "20.0",
         "0.0"
        ],
        [
         "25%",
         "1625.5682291666667",
         "3.0",
         "4.0",
         "8.0",
         "10.0",
         "3.0",
         "28.05256656125577",
         "30.306660494686994"
        ],
        [
         "50%",
         "3093.745000000001",
         "6.0",
         "5.0",
         "13.0",
         "18.0",
         "6.0",
         "32.30578367171092",
         "69.24947329972044"
        ],
        [
         "75%",
         "5957.448333333334",
         "7.0",
         "7.0",
         "20.0",
         "28.0",
         "9.0",
         "36.4966630559621",
         "161.22424910969863"
        ],
        [
         "max",
         "15204.633333333331",
         "1798.0",
         "1499.0",
         "5797.0",
         "67.0",
         "2597.0",
         "50.00000000000001",
         "82331.0"
        ]
       ],
       "shape": {
        "columns": 8,
        "rows": 8
       }
      },
      "text/html": [
       "<div>\n",
       "<style scoped>\n",
       "    .dataframe tbody tr th:only-of-type {\n",
       "        vertical-align: middle;\n",
       "    }\n",
       "\n",
       "    .dataframe tbody tr th {\n",
       "        vertical-align: top;\n",
       "    }\n",
       "\n",
       "    .dataframe thead th {\n",
       "        text-align: right;\n",
       "    }\n",
       "</style>\n",
       "<table border=\"1\" class=\"dataframe\">\n",
       "  <thead>\n",
       "    <tr style=\"text-align: right;\">\n",
       "      <th></th>\n",
       "      <th>monthly_inhand_salary</th>\n",
       "      <th>num_bank_accounts</th>\n",
       "      <th>num_credit_card</th>\n",
       "      <th>interest_rate</th>\n",
       "      <th>delay_from_due_date</th>\n",
       "      <th>num_credit_inquiries</th>\n",
       "      <th>credit_utilization_ratio</th>\n",
       "      <th>total_emi_per_month</th>\n",
       "    </tr>\n",
       "  </thead>\n",
       "  <tbody>\n",
       "    <tr>\n",
       "      <th>count</th>\n",
       "      <td>84998.000000</td>\n",
       "      <td>100000.000000</td>\n",
       "      <td>100000.00000</td>\n",
       "      <td>100000.000000</td>\n",
       "      <td>100000.000000</td>\n",
       "      <td>98035.000000</td>\n",
       "      <td>100000.000000</td>\n",
       "      <td>100000.000000</td>\n",
       "    </tr>\n",
       "    <tr>\n",
       "      <th>mean</th>\n",
       "      <td>4194.170850</td>\n",
       "      <td>17.091280</td>\n",
       "      <td>22.47443</td>\n",
       "      <td>72.466040</td>\n",
       "      <td>21.068780</td>\n",
       "      <td>27.754251</td>\n",
       "      <td>32.285173</td>\n",
       "      <td>1403.118217</td>\n",
       "    </tr>\n",
       "    <tr>\n",
       "      <th>std</th>\n",
       "      <td>3183.686167</td>\n",
       "      <td>117.404834</td>\n",
       "      <td>129.05741</td>\n",
       "      <td>466.422621</td>\n",
       "      <td>14.860104</td>\n",
       "      <td>193.177339</td>\n",
       "      <td>5.116875</td>\n",
       "      <td>8306.041270</td>\n",
       "    </tr>\n",
       "    <tr>\n",
       "      <th>min</th>\n",
       "      <td>303.645417</td>\n",
       "      <td>-1.000000</td>\n",
       "      <td>0.00000</td>\n",
       "      <td>1.000000</td>\n",
       "      <td>-5.000000</td>\n",
       "      <td>0.000000</td>\n",
       "      <td>20.000000</td>\n",
       "      <td>0.000000</td>\n",
       "    </tr>\n",
       "    <tr>\n",
       "      <th>25%</th>\n",
       "      <td>1625.568229</td>\n",
       "      <td>3.000000</td>\n",
       "      <td>4.00000</td>\n",
       "      <td>8.000000</td>\n",
       "      <td>10.000000</td>\n",
       "      <td>3.000000</td>\n",
       "      <td>28.052567</td>\n",
       "      <td>30.306660</td>\n",
       "    </tr>\n",
       "    <tr>\n",
       "      <th>50%</th>\n",
       "      <td>3093.745000</td>\n",
       "      <td>6.000000</td>\n",
       "      <td>5.00000</td>\n",
       "      <td>13.000000</td>\n",
       "      <td>18.000000</td>\n",
       "      <td>6.000000</td>\n",
       "      <td>32.305784</td>\n",
       "      <td>69.249473</td>\n",
       "    </tr>\n",
       "    <tr>\n",
       "      <th>75%</th>\n",
       "      <td>5957.448333</td>\n",
       "      <td>7.000000</td>\n",
       "      <td>7.00000</td>\n",
       "      <td>20.000000</td>\n",
       "      <td>28.000000</td>\n",
       "      <td>9.000000</td>\n",
       "      <td>36.496663</td>\n",
       "      <td>161.224249</td>\n",
       "    </tr>\n",
       "    <tr>\n",
       "      <th>max</th>\n",
       "      <td>15204.633333</td>\n",
       "      <td>1798.000000</td>\n",
       "      <td>1499.00000</td>\n",
       "      <td>5797.000000</td>\n",
       "      <td>67.000000</td>\n",
       "      <td>2597.000000</td>\n",
       "      <td>50.000000</td>\n",
       "      <td>82331.000000</td>\n",
       "    </tr>\n",
       "  </tbody>\n",
       "</table>\n",
       "</div>"
      ],
      "text/plain": [
       "       monthly_inhand_salary  num_bank_accounts  num_credit_card  \\\n",
       "count           84998.000000      100000.000000     100000.00000   \n",
       "mean             4194.170850          17.091280         22.47443   \n",
       "std              3183.686167         117.404834        129.05741   \n",
       "min               303.645417          -1.000000          0.00000   \n",
       "25%              1625.568229           3.000000          4.00000   \n",
       "50%              3093.745000           6.000000          5.00000   \n",
       "75%              5957.448333           7.000000          7.00000   \n",
       "max             15204.633333        1798.000000       1499.00000   \n",
       "\n",
       "       interest_rate  delay_from_due_date  num_credit_inquiries  \\\n",
       "count  100000.000000        100000.000000          98035.000000   \n",
       "mean       72.466040            21.068780             27.754251   \n",
       "std       466.422621            14.860104            193.177339   \n",
       "min         1.000000            -5.000000              0.000000   \n",
       "25%         8.000000            10.000000              3.000000   \n",
       "50%        13.000000            18.000000              6.000000   \n",
       "75%        20.000000            28.000000              9.000000   \n",
       "max      5797.000000            67.000000           2597.000000   \n",
       "\n",
       "       credit_utilization_ratio  total_emi_per_month  \n",
       "count             100000.000000        100000.000000  \n",
       "mean                  32.285173          1403.118217  \n",
       "std                    5.116875          8306.041270  \n",
       "min                   20.000000             0.000000  \n",
       "25%                   28.052567            30.306660  \n",
       "50%                   32.305784            69.249473  \n",
       "75%                   36.496663           161.224249  \n",
       "max                   50.000000         82331.000000  "
      ]
     },
     "execution_count": 1036,
     "metadata": {},
     "output_type": "execute_result"
    }
   ],
   "source": [
    "df_transformed.describe()"
   ]
  },
  {
   "cell_type": "markdown",
   "id": "15ad4190",
   "metadata": {},
   "source": [
    "As colunas a seguir nao serao utilizadas pois elas nao conseguem ser simuladas por um serviço projetado para valiacao de score de credito, devido a dados inconsistentes ou por nao serem necessarios."
   ]
  },
  {
   "cell_type": "code",
   "execution_count": 1037,
   "id": "c4467ffa",
   "metadata": {},
   "outputs": [
    {
     "data": {
      "application/vnd.microsoft.datawrangler.viewer.v0+json": {
       "columns": [
        {
         "name": "index",
         "rawType": "int64",
         "type": "integer"
        },
        {
         "name": "annual_income",
         "rawType": "object",
         "type": "string"
        },
        {
         "name": "monthly_inhand_salary",
         "rawType": "float64",
         "type": "float"
        },
        {
         "name": "num_bank_accounts",
         "rawType": "int64",
         "type": "integer"
        },
        {
         "name": "num_credit_card",
         "rawType": "int64",
         "type": "integer"
        },
        {
         "name": "interest_rate",
         "rawType": "int64",
         "type": "integer"
        },
        {
         "name": "num_of_loan",
         "rawType": "object",
         "type": "string"
        },
        {
         "name": "delay_from_due_date",
         "rawType": "int64",
         "type": "integer"
        },
        {
         "name": "num_of_delayed_payment",
         "rawType": "object",
         "type": "unknown"
        },
        {
         "name": "changed_credit_limit",
         "rawType": "object",
         "type": "string"
        },
        {
         "name": "num_credit_inquiries",
         "rawType": "float64",
         "type": "float"
        },
        {
         "name": "credit_mix",
         "rawType": "object",
         "type": "string"
        },
        {
         "name": "outstanding_debt",
         "rawType": "object",
         "type": "string"
        },
        {
         "name": "credit_utilization_ratio",
         "rawType": "float64",
         "type": "float"
        },
        {
         "name": "payment_of_min_amount",
         "rawType": "object",
         "type": "string"
        },
        {
         "name": "total_emi_per_month",
         "rawType": "float64",
         "type": "float"
        },
        {
         "name": "amount_invested_monthly",
         "rawType": "object",
         "type": "string"
        },
        {
         "name": "monthly_balance",
         "rawType": "object",
         "type": "string"
        },
        {
         "name": "credit_score",
         "rawType": "object",
         "type": "string"
        }
       ],
       "ref": "09573c81-a099-43ce-ab82-58bcc389909c",
       "rows": [
        [
         "0",
         "19114.12",
         "1824.8433333333328",
         "3",
         "4",
         "3",
         "4",
         "3",
         "7",
         "11.27",
         "4.0",
         "_",
         "809.98",
         "26.822619623699016",
         "No",
         "49.57494921489417",
         "80.41529543900253",
         "312.49408867943663",
         "Good"
        ],
        [
         "1",
         "19114.12",
         null,
         "3",
         "4",
         "3",
         "4",
         "-1",
         null,
         "11.27",
         "4.0",
         "Good",
         "809.98",
         "31.94496005538421",
         "No",
         "49.57494921489417",
         "118.28022162236736",
         "284.62916249607184",
         "Good"
        ],
        [
         "2",
         "19114.12",
         null,
         "3",
         "4",
         "3",
         "4",
         "3",
         "7",
         "_",
         "4.0",
         "Good",
         "809.98",
         "28.60935202206993",
         "No",
         "49.57494921489417",
         "81.699521264648",
         "331.2098628537912",
         "Good"
        ],
        [
         "3",
         "19114.12",
         null,
         "3",
         "4",
         "3",
         "4",
         "5",
         "4",
         "6.27",
         "4.0",
         "Good",
         "809.98",
         "31.377861869582357",
         "No",
         "49.57494921489417",
         "199.4580743910713",
         "223.45130972736786",
         "Good"
        ],
        [
         "4",
         "19114.12",
         "1824.8433333333328",
         "3",
         "4",
         "3",
         "4",
         "6",
         null,
         "11.27",
         "4.0",
         "Good",
         "809.98",
         "24.797346908844982",
         "No",
         "49.57494921489417",
         "41.420153086217326",
         "341.48923103222177",
         "Good"
        ]
       ],
       "shape": {
        "columns": 18,
        "rows": 5
       }
      },
      "text/html": [
       "<div>\n",
       "<style scoped>\n",
       "    .dataframe tbody tr th:only-of-type {\n",
       "        vertical-align: middle;\n",
       "    }\n",
       "\n",
       "    .dataframe tbody tr th {\n",
       "        vertical-align: top;\n",
       "    }\n",
       "\n",
       "    .dataframe thead th {\n",
       "        text-align: right;\n",
       "    }\n",
       "</style>\n",
       "<table border=\"1\" class=\"dataframe\">\n",
       "  <thead>\n",
       "    <tr style=\"text-align: right;\">\n",
       "      <th></th>\n",
       "      <th>annual_income</th>\n",
       "      <th>monthly_inhand_salary</th>\n",
       "      <th>num_bank_accounts</th>\n",
       "      <th>num_credit_card</th>\n",
       "      <th>interest_rate</th>\n",
       "      <th>num_of_loan</th>\n",
       "      <th>delay_from_due_date</th>\n",
       "      <th>num_of_delayed_payment</th>\n",
       "      <th>changed_credit_limit</th>\n",
       "      <th>num_credit_inquiries</th>\n",
       "      <th>credit_mix</th>\n",
       "      <th>outstanding_debt</th>\n",
       "      <th>credit_utilization_ratio</th>\n",
       "      <th>payment_of_min_amount</th>\n",
       "      <th>total_emi_per_month</th>\n",
       "      <th>amount_invested_monthly</th>\n",
       "      <th>monthly_balance</th>\n",
       "      <th>credit_score</th>\n",
       "    </tr>\n",
       "  </thead>\n",
       "  <tbody>\n",
       "    <tr>\n",
       "      <th>0</th>\n",
       "      <td>19114.12</td>\n",
       "      <td>1824.843333</td>\n",
       "      <td>3</td>\n",
       "      <td>4</td>\n",
       "      <td>3</td>\n",
       "      <td>4</td>\n",
       "      <td>3</td>\n",
       "      <td>7</td>\n",
       "      <td>11.27</td>\n",
       "      <td>4.0</td>\n",
       "      <td>_</td>\n",
       "      <td>809.98</td>\n",
       "      <td>26.822620</td>\n",
       "      <td>No</td>\n",
       "      <td>49.574949</td>\n",
       "      <td>80.41529543900253</td>\n",
       "      <td>312.49408867943663</td>\n",
       "      <td>Good</td>\n",
       "    </tr>\n",
       "    <tr>\n",
       "      <th>1</th>\n",
       "      <td>19114.12</td>\n",
       "      <td>NaN</td>\n",
       "      <td>3</td>\n",
       "      <td>4</td>\n",
       "      <td>3</td>\n",
       "      <td>4</td>\n",
       "      <td>-1</td>\n",
       "      <td>NaN</td>\n",
       "      <td>11.27</td>\n",
       "      <td>4.0</td>\n",
       "      <td>Good</td>\n",
       "      <td>809.98</td>\n",
       "      <td>31.944960</td>\n",
       "      <td>No</td>\n",
       "      <td>49.574949</td>\n",
       "      <td>118.28022162236736</td>\n",
       "      <td>284.62916249607184</td>\n",
       "      <td>Good</td>\n",
       "    </tr>\n",
       "    <tr>\n",
       "      <th>2</th>\n",
       "      <td>19114.12</td>\n",
       "      <td>NaN</td>\n",
       "      <td>3</td>\n",
       "      <td>4</td>\n",
       "      <td>3</td>\n",
       "      <td>4</td>\n",
       "      <td>3</td>\n",
       "      <td>7</td>\n",
       "      <td>_</td>\n",
       "      <td>4.0</td>\n",
       "      <td>Good</td>\n",
       "      <td>809.98</td>\n",
       "      <td>28.609352</td>\n",
       "      <td>No</td>\n",
       "      <td>49.574949</td>\n",
       "      <td>81.699521264648</td>\n",
       "      <td>331.2098628537912</td>\n",
       "      <td>Good</td>\n",
       "    </tr>\n",
       "    <tr>\n",
       "      <th>3</th>\n",
       "      <td>19114.12</td>\n",
       "      <td>NaN</td>\n",
       "      <td>3</td>\n",
       "      <td>4</td>\n",
       "      <td>3</td>\n",
       "      <td>4</td>\n",
       "      <td>5</td>\n",
       "      <td>4</td>\n",
       "      <td>6.27</td>\n",
       "      <td>4.0</td>\n",
       "      <td>Good</td>\n",
       "      <td>809.98</td>\n",
       "      <td>31.377862</td>\n",
       "      <td>No</td>\n",
       "      <td>49.574949</td>\n",
       "      <td>199.4580743910713</td>\n",
       "      <td>223.45130972736786</td>\n",
       "      <td>Good</td>\n",
       "    </tr>\n",
       "    <tr>\n",
       "      <th>4</th>\n",
       "      <td>19114.12</td>\n",
       "      <td>1824.843333</td>\n",
       "      <td>3</td>\n",
       "      <td>4</td>\n",
       "      <td>3</td>\n",
       "      <td>4</td>\n",
       "      <td>6</td>\n",
       "      <td>NaN</td>\n",
       "      <td>11.27</td>\n",
       "      <td>4.0</td>\n",
       "      <td>Good</td>\n",
       "      <td>809.98</td>\n",
       "      <td>24.797347</td>\n",
       "      <td>No</td>\n",
       "      <td>49.574949</td>\n",
       "      <td>41.420153086217326</td>\n",
       "      <td>341.48923103222177</td>\n",
       "      <td>Good</td>\n",
       "    </tr>\n",
       "  </tbody>\n",
       "</table>\n",
       "</div>"
      ],
      "text/plain": [
       "  annual_income  monthly_inhand_salary  num_bank_accounts  num_credit_card  \\\n",
       "0      19114.12            1824.843333                  3                4   \n",
       "1      19114.12                    NaN                  3                4   \n",
       "2      19114.12                    NaN                  3                4   \n",
       "3      19114.12                    NaN                  3                4   \n",
       "4      19114.12            1824.843333                  3                4   \n",
       "\n",
       "   interest_rate num_of_loan  delay_from_due_date num_of_delayed_payment  \\\n",
       "0              3           4                    3                      7   \n",
       "1              3           4                   -1                    NaN   \n",
       "2              3           4                    3                      7   \n",
       "3              3           4                    5                      4   \n",
       "4              3           4                    6                    NaN   \n",
       "\n",
       "  changed_credit_limit  num_credit_inquiries credit_mix outstanding_debt  \\\n",
       "0                11.27                   4.0          _           809.98   \n",
       "1                11.27                   4.0       Good           809.98   \n",
       "2                    _                   4.0       Good           809.98   \n",
       "3                 6.27                   4.0       Good           809.98   \n",
       "4                11.27                   4.0       Good           809.98   \n",
       "\n",
       "   credit_utilization_ratio payment_of_min_amount  total_emi_per_month  \\\n",
       "0                 26.822620                    No            49.574949   \n",
       "1                 31.944960                    No            49.574949   \n",
       "2                 28.609352                    No            49.574949   \n",
       "3                 31.377862                    No            49.574949   \n",
       "4                 24.797347                    No            49.574949   \n",
       "\n",
       "  amount_invested_monthly     monthly_balance credit_score  \n",
       "0       80.41529543900253  312.49408867943663         Good  \n",
       "1      118.28022162236736  284.62916249607184         Good  \n",
       "2         81.699521264648   331.2098628537912         Good  \n",
       "3       199.4580743910713  223.45130972736786         Good  \n",
       "4      41.420153086217326  341.48923103222177         Good  "
      ]
     },
     "execution_count": 1037,
     "metadata": {},
     "output_type": "execute_result"
    }
   ],
   "source": [
    "#drop de colunas que nao serao utilizadas\n",
    "df_transformed.drop(\"id\", axis=1, inplace=True)\n",
    "df_transformed.drop(\"customer_id\", axis=1, inplace=True)\n",
    "df_transformed.drop(\"month\", axis=1, inplace=True)\n",
    "df_transformed.drop(\"name\", axis=1, inplace=True)\n",
    "df_transformed.drop(\"ssn\", axis=1, inplace=True)\n",
    "df_transformed.drop(\"age\", axis=1, inplace=True)\n",
    "df_transformed.drop(\"occupation\", axis=1, inplace=True)\n",
    "df_transformed.drop(\"type_of_loan\", axis=1, inplace=True)\n",
    "df_transformed.drop(\"credit_history_age\", axis=1, inplace=True)\n",
    "df_transformed.drop(\"payment_behaviour\", axis=1, inplace=True)\n",
    "\n",
    "\n",
    "df_transformed.head()"
   ]
  },
  {
   "cell_type": "code",
   "execution_count": 1038,
   "id": "e53ad0f9",
   "metadata": {},
   "outputs": [
    {
     "data": {
      "application/vnd.microsoft.datawrangler.viewer.v0+json": {
       "columns": [
        {
         "name": "index",
         "rawType": "object",
         "type": "string"
        },
        {
         "name": "0",
         "rawType": "int64",
         "type": "integer"
        }
       ],
       "ref": "ec5723d2-fd70-40e8-b83a-b1c8824c4816",
       "rows": [
        [
         "annual_income",
         "0"
        ],
        [
         "monthly_inhand_salary",
         "15002"
        ],
        [
         "num_bank_accounts",
         "0"
        ],
        [
         "num_credit_card",
         "0"
        ],
        [
         "interest_rate",
         "0"
        ],
        [
         "num_of_loan",
         "0"
        ],
        [
         "delay_from_due_date",
         "0"
        ],
        [
         "num_of_delayed_payment",
         "7002"
        ],
        [
         "changed_credit_limit",
         "0"
        ],
        [
         "num_credit_inquiries",
         "1965"
        ],
        [
         "credit_mix",
         "0"
        ],
        [
         "outstanding_debt",
         "0"
        ],
        [
         "credit_utilization_ratio",
         "0"
        ],
        [
         "payment_of_min_amount",
         "0"
        ],
        [
         "total_emi_per_month",
         "0"
        ],
        [
         "amount_invested_monthly",
         "4479"
        ],
        [
         "monthly_balance",
         "1200"
        ],
        [
         "credit_score",
         "0"
        ]
       ],
       "shape": {
        "columns": 1,
        "rows": 18
       }
      },
      "text/plain": [
       "annual_income                   0\n",
       "monthly_inhand_salary       15002\n",
       "num_bank_accounts               0\n",
       "num_credit_card                 0\n",
       "interest_rate                   0\n",
       "num_of_loan                     0\n",
       "delay_from_due_date             0\n",
       "num_of_delayed_payment       7002\n",
       "changed_credit_limit            0\n",
       "num_credit_inquiries         1965\n",
       "credit_mix                      0\n",
       "outstanding_debt                0\n",
       "credit_utilization_ratio        0\n",
       "payment_of_min_amount           0\n",
       "total_emi_per_month             0\n",
       "amount_invested_monthly      4479\n",
       "monthly_balance              1200\n",
       "credit_score                    0\n",
       "dtype: int64"
      ]
     },
     "execution_count": 1038,
     "metadata": {},
     "output_type": "execute_result"
    }
   ],
   "source": [
    "df_transformed.isnull().sum()"
   ]
  },
  {
   "cell_type": "markdown",
   "id": "20874b7d",
   "metadata": {},
   "source": [
    "Limpeza e transformacao dos dados"
   ]
  },
  {
   "cell_type": "code",
   "execution_count": 1039,
   "id": "25d1aca0",
   "metadata": {},
   "outputs": [
    {
     "data": {
      "text/plain": [
       "array(['19114.12', '34847.84', '34847.84_', ..., '20002.88', '39628.99',\n",
       "       '39628.99_'], dtype=object)"
      ]
     },
     "execution_count": 1039,
     "metadata": {},
     "output_type": "execute_result"
    }
   ],
   "source": [
    "df_transformed['annual_income'].unique()"
   ]
  },
  {
   "cell_type": "code",
   "execution_count": 1040,
   "id": "b09ca97c",
   "metadata": {},
   "outputs": [
    {
     "data": {
      "text/plain": [
       "array([ 19114.12,  34847.84, 143162.64, ...,  37188.1 ,  20002.88,\n",
       "        39628.99])"
      ]
     },
     "execution_count": 1040,
     "metadata": {},
     "output_type": "execute_result"
    }
   ],
   "source": [
    "#transformacao de valores\n",
    "df_transformed['annual_income'] = df_transformed['annual_income'].str.replace('_','').astype(float)\n",
    "df_transformed['annual_income'].unique()"
   ]
  },
  {
   "cell_type": "code",
   "execution_count": 1041,
   "id": "1729e4e3",
   "metadata": {},
   "outputs": [
    {
     "data": {
      "text/plain": [
       "15002"
      ]
     },
     "execution_count": 1041,
     "metadata": {},
     "output_type": "execute_result"
    }
   ],
   "source": [
    "df_transformed['monthly_inhand_salary'].isnull().sum()"
   ]
  },
  {
   "cell_type": "code",
   "execution_count": 1042,
   "id": "43de2783",
   "metadata": {},
   "outputs": [
    {
     "data": {
      "text/plain": [
       "0"
      ]
     },
     "execution_count": 1042,
     "metadata": {},
     "output_type": "execute_result"
    }
   ],
   "source": [
    "df_transformed['monthly_inhand_salary'] = df_transformed['monthly_inhand_salary'].replace(np.nan,0)\n",
    "df_transformed['monthly_inhand_salary'].isnull().sum()"
   ]
  },
  {
   "cell_type": "code",
   "execution_count": 1043,
   "id": "6848bbee",
   "metadata": {},
   "outputs": [],
   "source": [
    "df_transformed['num_bank_accounts'] = df_transformed['num_bank_accounts'].replace('-','')"
   ]
  },
  {
   "cell_type": "code",
   "execution_count": 1044,
   "id": "7913a42c",
   "metadata": {},
   "outputs": [
    {
     "data": {
      "text/plain": [
       "(100000, 18)"
      ]
     },
     "execution_count": 1044,
     "metadata": {},
     "output_type": "execute_result"
    }
   ],
   "source": [
    "df_transformed.shape\n"
   ]
  },
  {
   "cell_type": "code",
   "execution_count": 1079,
   "id": "a5e940b7",
   "metadata": {},
   "outputs": [
    {
     "data": {
      "text/plain": [
       "array([   4,    1,    3,  967,  100,    0,    2,    7,    5,    6,    8,\n",
       "          9, 1464,  622,  352,  472, 1017,  945,  146,  563,  341,  444,\n",
       "        720, 1485,   49,  737, 1106,  466,  728,  313,  843,  597,  617,\n",
       "        119,  663,  640,   92, 1019,  501, 1302,   39,  716,  848,  931,\n",
       "       1214,  186,  424, 1001, 1110, 1152,  457, 1433, 1187,   52, 1480,\n",
       "       1047, 1035, 1347,   33,  193,  699,  329, 1451,  484,  132,  649,\n",
       "        995,  545,  684, 1135, 1094, 1204,  654,   58,  348,  614, 1363,\n",
       "        323, 1406, 1348,  430,  153, 1461,  905, 1312, 1424, 1154,   95,\n",
       "       1353, 1228,  819, 1006,  795,  359, 1209,  590,  696, 1185, 1465,\n",
       "        911, 1181,   70,  816, 1369,  143, 1416,  455,   55, 1096, 1474,\n",
       "        420, 1131,  904,   89, 1259,  527, 1241,  449,  983,  418,  319,\n",
       "         23,  238,  638,  138,  235,  280, 1070, 1484,  274,  494, 1459,\n",
       "        404, 1354, 1495, 1391,  601, 1313, 1319,  898,  231,  752,  174,\n",
       "        961, 1046,  834,  284,  438,  288, 1463, 1151,  719,  198, 1015,\n",
       "        855,  841,  392, 1444,  103, 1320,  745,  172,  252,  630,  241,\n",
       "         31,  405, 1217, 1030, 1257,  137,  157,  164, 1088, 1236,  777,\n",
       "       1048,  613,  330, 1439,  321,  661,  952,  939,  562, 1202,  302,\n",
       "        943,  394,  955, 1318,  936,  781, 1329, 1365,  860,  217,  191,\n",
       "         32,  282,  351, 1387,  757,  416,  833,  292, 1225, 1227,  639,\n",
       "        859,  243,  267,  510,  332,  996,  311,  492,  820,  336,  123,\n",
       "        540,  131, 1311, 1441,  895,  891,   50,  940,  935,  596,   29,\n",
       "       1182, 1129, 1014,  251,  365,  291, 1447,  742, 1085,  148,  462,\n",
       "        832,  881, 1412,  785, 1127,  910,  538,  999,  733,  101,  237,\n",
       "         87,  659,  633,  387,  447,  629,  831, 1384,  773,  621, 1419,\n",
       "        289,  285, 1393,   27, 1359, 1482, 1189, 1294,  201,  579,  814,\n",
       "        141,  581, 1171,  295,  290,  433,  679, 1040, 1054, 1430, 1023,\n",
       "       1077, 1457, 1150,  701, 1382,  889,  437,  372, 1222,  126, 1159,\n",
       "        868,   19, 1297,  227,  190,  809, 1216, 1074,  571,  520, 1274,\n",
       "       1340,  991,  316,  697,  926,  873, 1002,  378,   65,  875,  867,\n",
       "        548,  652, 1372,  606, 1036, 1300,   17, 1178,  802, 1219, 1271,\n",
       "       1137, 1496,  439,  196,  636,  192,  228, 1053,  229,  753, 1296,\n",
       "       1371,  254,  863,  464,  515,  838, 1160, 1289, 1298,  799,  182,\n",
       "        574,  242,  415,  869,  958,   54, 1265,  656,  275,  778,  208,\n",
       "        147,  350,  507,  463,  497,  927,  653,  662,  529,  635, 1027,\n",
       "        897, 1039, 1345,  924, 1279,  546, 1112, 1210,  526,  300, 1103,\n",
       "        504,  136, 1400,   78,  686, 1091,  344,  215,   84,  628, 1470,\n",
       "        968, 1478,   83, 1196, 1307, 1132, 1008,  917,  657,   56,   18,\n",
       "         41,  801,  978,  216,  349,  966], dtype=int64)"
      ]
     },
     "execution_count": 1079,
     "metadata": {},
     "output_type": "execute_result"
    }
   ],
   "source": [
    "df_transformed['num_of_loan'].unique()"
   ]
  },
  {
   "cell_type": "code",
   "execution_count": 1046,
   "id": "94904235",
   "metadata": {},
   "outputs": [
    {
     "data": {
      "text/plain": [
       "dtype('O')"
      ]
     },
     "execution_count": 1046,
     "metadata": {},
     "output_type": "execute_result"
    }
   ],
   "source": [
    "df_transformed['num_of_loan'] = df_transformed['num_of_loan'].str.replace('_','')\n",
    "df_transformed['num_of_loan'] = df_transformed['num_of_loan'].str.replace('-','')\n",
    "df_transformed['num_of_loan'].dtype"
   ]
  },
  {
   "cell_type": "code",
   "execution_count": 1047,
   "id": "227d4314",
   "metadata": {},
   "outputs": [
    {
     "data": {
      "text/plain": [
       "array([ 3, -1,  5,  6,  8,  7, 13, 10,  0,  4,  9,  1, 12, 11, 30, 31, 34,\n",
       "       27, 14,  2, -2, 16, 17, 15, 23, 22, 21, 18, 19, 52, 51, 48, 53, 26,\n",
       "       43, 28, 25, 20, 47, 46, 49, 24, 61, 29, 50, 58, 45, 59, 55, 56, 57,\n",
       "       54, 62, 65, 64, 67, 36, 41, 33, 32, 39, 44, 42, 60, 35, 38, -3, 63,\n",
       "       40, 37, -5, -4, 66], dtype=int64)"
      ]
     },
     "execution_count": 1047,
     "metadata": {},
     "output_type": "execute_result"
    }
   ],
   "source": [
    "df_transformed['delay_from_due_date'].unique()"
   ]
  },
  {
   "cell_type": "code",
   "execution_count": 1048,
   "id": "baa65457",
   "metadata": {},
   "outputs": [],
   "source": [
    "df_transformed['delay_from_due_date'] = df_transformed['delay_from_due_date'].apply(lambda x: 0 if x < 0 else x)"
   ]
  },
  {
   "cell_type": "code",
   "execution_count": 1049,
   "id": "a482fd67",
   "metadata": {},
   "outputs": [
    {
     "data": {
      "text/plain": [
       "array(['7', nan, '4', '8_', '6', '1', '-1', '3_', '0', '8', '5', '3', '9',\n",
       "       '12', '15', '17', '10', '2', '2_', '11', '14', '20', '22', '13',\n",
       "       '13_', '14_', '16', '12_', '18', '19', '23', '24', '21', '3318',\n",
       "       '3083', '22_', '1338', '4_', '26', '11_', '3104', '21_', '25',\n",
       "       '10_', '183_', '9_', '1106', '834', '19_', '24_', '17_', '23_',\n",
       "       '2672', '20_', '2008', '-3', '538', '6_', '1_', '16_', '27', '-2',\n",
       "       '3478', '2420', '15_', '707', '708', '26_', '18_', '3815', '28',\n",
       "       '5_', '1867', '2250', '1463', '25_', '7_', '4126', '2882', '1941',\n",
       "       '2655', '2628', '132', '3069', '306', '0_', '3539', '3684', '1823',\n",
       "       '4128', '1946', '827', '2297', '2566', '904', '182', '929', '3568',\n",
       "       '2503', '1552', '2812', '1697', '3764', '851', '3905', '923', '88',\n",
       "       '1668', '3253', '808', '2689', '3858', '642', '3457', '1402',\n",
       "       '1732', '3154', '847', '3037', '2204', '3103', '1063', '2056',\n",
       "       '1282', '1841', '2569_', '211', '793', '3484', '411', '3491',\n",
       "       '2072', '3050', '1049', '2162', '3402', '2753', '27_', '1718',\n",
       "       '1014', '3260', '3855', '84', '2311', '3251', '1832', '4069',\n",
       "       '3010', '733', '4241', '166', '2461', '1749', '3200', '663_',\n",
       "       '2185', '4161', '3009', '359', '2015', '1523', '594', '1079',\n",
       "       '1199', '186', '1015', '1989', '281', '559', '2165', '1509',\n",
       "       '3545', '779', '192', '4311', '-2_', '2323', '1471', '1538',\n",
       "       '3529', '439', '3456', '3040', '2697', '3179', '1332', '3175',\n",
       "       '3112', '829', '4022', '3870', '4023', '531', '1511', '3092',\n",
       "       '3191', '2400', '3621', '3536', '544', '1864', '28_', '142',\n",
       "       '2300', '264', '72', '497', '398', '2222', '3960', '1473', '3043',\n",
       "       '4216', '2903', '2658', '-1_', '4042', '1323_', '2184', '921',\n",
       "       '1328', '3404', '2438', '809', '47', '1996', '4164', '1370',\n",
       "       '1204', '2167', '4011', '2590', '2594', '2533', '1663', '1018',\n",
       "       '2919', '3458', '3316', '2589', '2801', '3355', '2529', '2488',\n",
       "       '4266', '1243', '739', '845', '4107', '1884', '337', '2660', '290',\n",
       "       '674', '2450', '3738', '1792', '2823', '2570', '775', '960', '482',\n",
       "       '1706', '2493', '3623', '3031', '2794_', '2219_', '758_', '1849',\n",
       "       '3559', '4096', '3726', '1953', '2657', '4043', '2938', '4384',\n",
       "       '1647', '2694', '3533', '519', '2677', '2413', '-3_', '4139',\n",
       "       '2609', '4326', '4211', '823', '3011', '1608', '2860', '4219',\n",
       "       '4047', '1531', '742', '52', '4024', '1673', '49', '2243', '1685',\n",
       "       '1869', '2587', '3489', '749', '1164', '2616', '848_', '4134',\n",
       "       '1530', '1502', '4075', '3845', '1060', '2573', '2128', '328',\n",
       "       '640', '2585', '2230', '1795', '1180', '1534', '3739', '3313',\n",
       "       '4191', '996', '372', '3340', '3177', '602', '787', '4135', '3878',\n",
       "       '4059', '1218', '4051', '1766', '1359', '3107', '585', '1263',\n",
       "       '2511', '709', '3632', '4077', '2943', '2793', '3245', '2317',\n",
       "       '1640', '2237_', '3819', '252', '3978', '1498', '1833', '2737',\n",
       "       '1192', '1481', '700', '271', '2286', '273', '1215', '3944',\n",
       "       '2070', '1478', '3749', '871', '2508', '2959', '130', '294',\n",
       "       '3097_', '3511', '415', '2196', '2138', '2149', '1874', '1553',\n",
       "       '3847', '3222', '1222', '2907', '3051', '98', '1598', '416',\n",
       "       '2314', '2955', '1691', '1450', '2021', '1636', '80', '3708',\n",
       "       '195', '320', '2945', '1911', '3416', '3796', '4159', '2255',\n",
       "       '938', '4397', '3776', '2148', '1994', '853', '1178', '1633',\n",
       "       '196', '3864', '714', '1687', '1034', '468', '1337', '2044',\n",
       "       '1541', '3661', '1211', '2645', '2007', '102', '1891', '3162',\n",
       "       '3142', '2566_', '2766', '3881', '2728', '2671', '1952', '3580',\n",
       "       '2705', '4251', '3840_', '972', '3119', '3502', '4185', '2954',\n",
       "       '683', '1614', '1572', '4302', '3447', '1852', '2131', '1900',\n",
       "       '1699', '133', '2018', '2127', '508', '210', '577', '1664', '2604',\n",
       "       '1411', '2351', '867', '1371', '2352', '1191', '905', '4053',\n",
       "       '3869', '933', '3660', '3300', '3629', '3208', '2142', '2521',\n",
       "       '450', '583', '876', '121', '3919', '2560', '2578', '2060', '813',\n",
       "       '1236', '1489', '4360', '1154', '2544', '4172', '2924', '426',\n",
       "       '4270', '2768', '3909', '3951', '2712', '2498', '3171', '1750',\n",
       "       '197', '2569', '265', '4293', '887', '2707', '2397', '4337',\n",
       "       '4249', '2751', '2950', '1859', '107', '2348', '2506', '2810',\n",
       "       '2873', '1301', '2262', '1890', '3078', '3865', '3268', '2777',\n",
       "       '3105', '1278', '3793', '2276', '2879', '4298', '2141', '223',\n",
       "       '2239', '846', '1862', '2756', '1181', '1184', '2617', '3972',\n",
       "       '2334', '3900', '2759', '4169', '2280', '2492', '2729', '3750',\n",
       "       '1825', '309', '2431', '3099', '2080', '2279', '2666', '3722',\n",
       "       '1976', '529', '1985', '3060', '4278', '3212', '46', '3148',\n",
       "       '3467', '4231', '3790', '473', '1536', '3955', '2324', '2381',\n",
       "       '1177', '371', '2896', '3880', '2991', '4319', '1061', '662',\n",
       "       '4144', '693', '2006', '3115', '2278_', '3751', '1861', '4262',\n",
       "       '2913', '2615', '3492', '800', '3766', '384', '3407', '1087',\n",
       "       '3329', '1086', '2216', '1087_', '2457', '3522', '3274', '3488',\n",
       "       '2854', '238', '351', '3706', '4280', '4095', '2926', '1329',\n",
       "       '3370', '283', '1392', '1743', '2429', '974', '3156', '1133',\n",
       "       '4388', '3243', '4282', '2523', '4281', '3415', '2001', '441',\n",
       "       '94', '3499', '969', '3368', '106', '1004', '2638', '3946', '2956',\n",
       "       '4324', '85', '4113', '819', '615', '1172', '2553', '1765', '3495',\n",
       "       '2820', '4239', '4340', '1295_', '2636', '4295', '1653', '1325',\n",
       "       '1879', '1096', '1735', '3584', '1073', '1975', '3827', '2552',\n",
       "       '3754', '2378', '532', '926', '2376', '3636', '3763', '778',\n",
       "       '2621', '804', '754', '2418', '4019', '3926', '3861_', '3574',\n",
       "       '175', '162', '2834', '3765', '2354', '523', '2274', '1606',\n",
       "       '1443', '1354', '2142_', '1422', '2278', '1045', '4106', '3155',\n",
       "       '666', '659', '3229', '1216', '2076', '1473_', '2384', '1954',\n",
       "       '719', '2534', '4002', '541', '2875', '4344', '2081', '3894',\n",
       "       '1256', '676', '4178', '399', '86', '1571', '4037', '1967', '4005',\n",
       "       '3216', '1150', '2591', '1801', '3721', '1775', '2260', '3707',\n",
       "       '4292', '1820', '145', '1480', '1850', '430', '217', '3920_',\n",
       "       '1389', '1579', '3391', '2385', '3336', '3392', '3688', '221',\n",
       "       '2047'], dtype=object)"
      ]
     },
     "execution_count": 1049,
     "metadata": {},
     "output_type": "execute_result"
    }
   ],
   "source": [
    "df_transformed['num_of_delayed_payment'].unique()"
   ]
  },
  {
   "cell_type": "code",
   "execution_count": 1050,
   "id": "ca3b52c1",
   "metadata": {},
   "outputs": [],
   "source": [
    "df_transformed['num_of_delayed_payment'] = df_transformed['num_of_delayed_payment'].str.replace('_','')\n",
    "df_transformed['num_of_delayed_payment'] = df_transformed['num_of_delayed_payment'].str.replace('-','')\n",
    "df_transformed['num_of_delayed_payment'] = df_transformed['num_of_delayed_payment'].replace(np.nan,0)"
   ]
  },
  {
   "cell_type": "code",
   "execution_count": 1051,
   "id": "22719c09",
   "metadata": {},
   "outputs": [
    {
     "data": {
      "text/plain": [
       "array(['7', 0, '4', '8', '6', '1', '3', '0', '5', '9', '12', '15', '17',\n",
       "       '10', '2', '11', '14', '20', '22', '13', '16', '18', '19', '23',\n",
       "       '24', '21', '3318', '3083', '1338', '26', '3104', '25', '183',\n",
       "       '1106', '834', '2672', '2008', '538', '27', '3478', '2420', '707',\n",
       "       '708', '3815', '28', '1867', '2250', '1463', '4126', '2882',\n",
       "       '1941', '2655', '2628', '132', '3069', '306', '3539', '3684',\n",
       "       '1823', '4128', '1946', '827', '2297', '2566', '904', '182', '929',\n",
       "       '3568', '2503', '1552', '2812', '1697', '3764', '851', '3905',\n",
       "       '923', '88', '1668', '3253', '808', '2689', '3858', '642', '3457',\n",
       "       '1402', '1732', '3154', '847', '3037', '2204', '3103', '1063',\n",
       "       '2056', '1282', '1841', '2569', '211', '793', '3484', '411',\n",
       "       '3491', '2072', '3050', '1049', '2162', '3402', '2753', '1718',\n",
       "       '1014', '3260', '3855', '84', '2311', '3251', '1832', '4069',\n",
       "       '3010', '733', '4241', '166', '2461', '1749', '3200', '663',\n",
       "       '2185', '4161', '3009', '359', '2015', '1523', '594', '1079',\n",
       "       '1199', '186', '1015', '1989', '281', '559', '2165', '1509',\n",
       "       '3545', '779', '192', '4311', '2323', '1471', '1538', '3529',\n",
       "       '439', '3456', '3040', '2697', '3179', '1332', '3175', '3112',\n",
       "       '829', '4022', '3870', '4023', '531', '1511', '3092', '3191',\n",
       "       '2400', '3621', '3536', '544', '1864', '142', '2300', '264', '72',\n",
       "       '497', '398', '2222', '3960', '1473', '3043', '4216', '2903',\n",
       "       '2658', '4042', '1323', '2184', '921', '1328', '3404', '2438',\n",
       "       '809', '47', '1996', '4164', '1370', '1204', '2167', '4011',\n",
       "       '2590', '2594', '2533', '1663', '1018', '2919', '3458', '3316',\n",
       "       '2589', '2801', '3355', '2529', '2488', '4266', '1243', '739',\n",
       "       '845', '4107', '1884', '337', '2660', '290', '674', '2450', '3738',\n",
       "       '1792', '2823', '2570', '775', '960', '482', '1706', '2493',\n",
       "       '3623', '3031', '2794', '2219', '758', '1849', '3559', '4096',\n",
       "       '3726', '1953', '2657', '4043', '2938', '4384', '1647', '2694',\n",
       "       '3533', '519', '2677', '2413', '4139', '2609', '4326', '4211',\n",
       "       '823', '3011', '1608', '2860', '4219', '4047', '1531', '742', '52',\n",
       "       '4024', '1673', '49', '2243', '1685', '1869', '2587', '3489',\n",
       "       '749', '1164', '2616', '848', '4134', '1530', '1502', '4075',\n",
       "       '3845', '1060', '2573', '2128', '328', '640', '2585', '2230',\n",
       "       '1795', '1180', '1534', '3739', '3313', '4191', '996', '372',\n",
       "       '3340', '3177', '602', '787', '4135', '3878', '4059', '1218',\n",
       "       '4051', '1766', '1359', '3107', '585', '1263', '2511', '709',\n",
       "       '3632', '4077', '2943', '2793', '3245', '2317', '1640', '2237',\n",
       "       '3819', '252', '3978', '1498', '1833', '2737', '1192', '1481',\n",
       "       '700', '271', '2286', '273', '1215', '3944', '2070', '1478',\n",
       "       '3749', '871', '2508', '2959', '130', '294', '3097', '3511', '415',\n",
       "       '2196', '2138', '2149', '1874', '1553', '3847', '3222', '1222',\n",
       "       '2907', '3051', '98', '1598', '416', '2314', '2955', '1691',\n",
       "       '1450', '2021', '1636', '80', '3708', '195', '320', '2945', '1911',\n",
       "       '3416', '3796', '4159', '2255', '938', '4397', '3776', '2148',\n",
       "       '1994', '853', '1178', '1633', '196', '3864', '714', '1687',\n",
       "       '1034', '468', '1337', '2044', '1541', '3661', '1211', '2645',\n",
       "       '2007', '102', '1891', '3162', '3142', '2766', '3881', '2728',\n",
       "       '2671', '1952', '3580', '2705', '4251', '3840', '972', '3119',\n",
       "       '3502', '4185', '2954', '683', '1614', '1572', '4302', '3447',\n",
       "       '1852', '2131', '1900', '1699', '133', '2018', '2127', '508',\n",
       "       '210', '577', '1664', '2604', '1411', '2351', '867', '1371',\n",
       "       '2352', '1191', '905', '4053', '3869', '933', '3660', '3300',\n",
       "       '3629', '3208', '2142', '2521', '450', '583', '876', '121', '3919',\n",
       "       '2560', '2578', '2060', '813', '1236', '1489', '4360', '1154',\n",
       "       '2544', '4172', '2924', '426', '4270', '2768', '3909', '3951',\n",
       "       '2712', '2498', '3171', '1750', '197', '265', '4293', '887',\n",
       "       '2707', '2397', '4337', '4249', '2751', '2950', '1859', '107',\n",
       "       '2348', '2506', '2810', '2873', '1301', '2262', '1890', '3078',\n",
       "       '3865', '3268', '2777', '3105', '1278', '3793', '2276', '2879',\n",
       "       '4298', '2141', '223', '2239', '846', '1862', '2756', '1181',\n",
       "       '1184', '2617', '3972', '2334', '3900', '2759', '4169', '2280',\n",
       "       '2492', '2729', '3750', '1825', '309', '2431', '3099', '2080',\n",
       "       '2279', '2666', '3722', '1976', '529', '1985', '3060', '4278',\n",
       "       '3212', '46', '3148', '3467', '4231', '3790', '473', '1536',\n",
       "       '3955', '2324', '2381', '1177', '371', '2896', '3880', '2991',\n",
       "       '4319', '1061', '662', '4144', '693', '2006', '3115', '2278',\n",
       "       '3751', '1861', '4262', '2913', '2615', '3492', '800', '3766',\n",
       "       '384', '3407', '1087', '3329', '1086', '2216', '2457', '3522',\n",
       "       '3274', '3488', '2854', '238', '351', '3706', '4280', '4095',\n",
       "       '2926', '1329', '3370', '283', '1392', '1743', '2429', '974',\n",
       "       '3156', '1133', '4388', '3243', '4282', '2523', '4281', '3415',\n",
       "       '2001', '441', '94', '3499', '969', '3368', '106', '1004', '2638',\n",
       "       '3946', '2956', '4324', '85', '4113', '819', '615', '1172', '2553',\n",
       "       '1765', '3495', '2820', '4239', '4340', '1295', '2636', '4295',\n",
       "       '1653', '1325', '1879', '1096', '1735', '3584', '1073', '1975',\n",
       "       '3827', '2552', '3754', '2378', '532', '926', '2376', '3636',\n",
       "       '3763', '778', '2621', '804', '754', '2418', '4019', '3926',\n",
       "       '3861', '3574', '175', '162', '2834', '3765', '2354', '523',\n",
       "       '2274', '1606', '1443', '1354', '1422', '1045', '4106', '3155',\n",
       "       '666', '659', '3229', '1216', '2076', '2384', '1954', '719',\n",
       "       '2534', '4002', '541', '2875', '4344', '2081', '3894', '1256',\n",
       "       '676', '4178', '399', '86', '1571', '4037', '1967', '4005', '3216',\n",
       "       '1150', '2591', '1801', '3721', '1775', '2260', '3707', '4292',\n",
       "       '1820', '145', '1480', '1850', '430', '217', '3920', '1389',\n",
       "       '1579', '3391', '2385', '3336', '3392', '3688', '221', '2047'],\n",
       "      dtype=object)"
      ]
     },
     "execution_count": 1051,
     "metadata": {},
     "output_type": "execute_result"
    }
   ],
   "source": [
    "df_transformed['num_of_delayed_payment'].unique()"
   ]
  },
  {
   "cell_type": "code",
   "execution_count": 1052,
   "id": "8fd923dd",
   "metadata": {},
   "outputs": [
    {
     "data": {
      "text/plain": [
       "array(['_', 'Good', 'Standard', 'Bad'], dtype=object)"
      ]
     },
     "execution_count": 1052,
     "metadata": {},
     "output_type": "execute_result"
    }
   ],
   "source": [
    "df_transformed['credit_mix'].unique()"
   ]
  },
  {
   "cell_type": "code",
   "execution_count": 1053,
   "id": "9cd5cac4",
   "metadata": {},
   "outputs": [],
   "source": [
    "df_transformed['credit_mix'] = df_transformed['credit_mix'].str.replace('_','None')"
   ]
  },
  {
   "cell_type": "code",
   "execution_count": 1054,
   "id": "5df7656d",
   "metadata": {},
   "outputs": [
    {
     "data": {
      "text/plain": [
       "array(['None', 'Good', 'Standard', 'Bad'], dtype=object)"
      ]
     },
     "execution_count": 1054,
     "metadata": {},
     "output_type": "execute_result"
    }
   ],
   "source": [
    "df_transformed['credit_mix'].unique()"
   ]
  },
  {
   "cell_type": "code",
   "execution_count": 1055,
   "id": "a129bc1c",
   "metadata": {},
   "outputs": [
    {
     "data": {
      "text/plain": [
       "array(['No', 'NM', 'Yes'], dtype=object)"
      ]
     },
     "execution_count": 1055,
     "metadata": {},
     "output_type": "execute_result"
    }
   ],
   "source": [
    "df_transformed[\"payment_of_min_amount\"].unique()"
   ]
  },
  {
   "cell_type": "code",
   "execution_count": 1056,
   "id": "9582d9ec",
   "metadata": {},
   "outputs": [],
   "source": [
    "df_transformed['payment_of_min_amount'] = df_transformed['payment_of_min_amount'].str.replace('NM','None')"
   ]
  },
  {
   "cell_type": "code",
   "execution_count": 1057,
   "id": "5286f20f",
   "metadata": {},
   "outputs": [],
   "source": [
    "df_transformed['amount_invested_monthly'] = df_transformed['amount_invested_monthly'].replace({'__10000__': np.nan})"
   ]
  },
  {
   "cell_type": "code",
   "execution_count": 1058,
   "id": "0015d013",
   "metadata": {},
   "outputs": [],
   "source": [
    "df_transformed['monthly_balance'] = df_transformed['monthly_balance'].replace({'__-333333333333333333333333333__': np.nan})"
   ]
  },
  {
   "cell_type": "code",
   "execution_count": 1059,
   "id": "ec0c4c73",
   "metadata": {},
   "outputs": [
    {
     "data": {
      "text/plain": [
       "1209"
      ]
     },
     "execution_count": 1059,
     "metadata": {},
     "output_type": "execute_result"
    }
   ],
   "source": [
    "df_transformed['monthly_balance'].isnull().sum()"
   ]
  },
  {
   "cell_type": "code",
   "execution_count": 1060,
   "id": "b0118b4a",
   "metadata": {},
   "outputs": [],
   "source": [
    "df_transformed['monthly_balance'] = df_transformed['monthly_balance'].replace(np.nan,0)"
   ]
  },
  {
   "cell_type": "code",
   "execution_count": 1061,
   "id": "d7d05d0b",
   "metadata": {},
   "outputs": [
    {
     "data": {
      "text/plain": [
       "0"
      ]
     },
     "execution_count": 1061,
     "metadata": {},
     "output_type": "execute_result"
    }
   ],
   "source": [
    "df_transformed['monthly_balance'].isnull().sum()"
   ]
  },
  {
   "cell_type": "code",
   "execution_count": 1062,
   "id": "46c5be0b",
   "metadata": {},
   "outputs": [
    {
     "data": {
      "text/plain": [
       "1965"
      ]
     },
     "execution_count": 1062,
     "metadata": {},
     "output_type": "execute_result"
    }
   ],
   "source": [
    "df_transformed['num_credit_inquiries'].isnull().sum()"
   ]
  },
  {
   "cell_type": "code",
   "execution_count": 1063,
   "id": "5ac414cb",
   "metadata": {},
   "outputs": [
    {
     "data": {
      "text/plain": [
       "0"
      ]
     },
     "execution_count": 1063,
     "metadata": {},
     "output_type": "execute_result"
    }
   ],
   "source": [
    "df_transformed['num_credit_inquiries'] = df_transformed['num_credit_inquiries'].replace(np.nan,0)\n",
    "df_transformed['num_credit_inquiries'].isnull().sum()"
   ]
  },
  {
   "cell_type": "code",
   "execution_count": 1064,
   "id": "4580038a",
   "metadata": {},
   "outputs": [],
   "source": [
    "df_transformed['changed_credit_limit'] = df_transformed['changed_credit_limit'].str.replace('-','')\n",
    "df_transformed['changed_credit_limit'] = df_transformed['changed_credit_limit'].str.replace('_','')\n",
    "df_transformed['changed_credit_limit'] = df_transformed['changed_credit_limit'].replace({'': 0})"
   ]
  },
  {
   "cell_type": "code",
   "execution_count": 1065,
   "id": "4919e03b",
   "metadata": {},
   "outputs": [
    {
     "data": {
      "text/plain": [
       "array(['11.27', 0, '6.27', ..., '17.509999999999998', '25.16', '21.17'],\n",
       "      dtype=object)"
      ]
     },
     "execution_count": 1065,
     "metadata": {},
     "output_type": "execute_result"
    }
   ],
   "source": [
    "df_transformed['changed_credit_limit'].unique()"
   ]
  },
  {
   "cell_type": "code",
   "execution_count": 1066,
   "id": "b86d3210",
   "metadata": {},
   "outputs": [
    {
     "data": {
      "text/plain": [
       "array([26.82261962, 31.94496006, 28.60935202, ..., 41.25552226,\n",
       "       33.63820798, 34.19246265])"
      ]
     },
     "execution_count": 1066,
     "metadata": {},
     "output_type": "execute_result"
    }
   ],
   "source": [
    "df_transformed[\"credit_utilization_ratio\"].unique()"
   ]
  },
  {
   "cell_type": "code",
   "execution_count": 1067,
   "id": "c60eedbf",
   "metadata": {},
   "outputs": [
    {
     "data": {
      "text/plain": [
       "array([4.95749492e+01, 1.88162146e+01, 2.46992319e+02, ...,\n",
       "       1.21120000e+04, 3.51040226e+01, 5.86380000e+04])"
      ]
     },
     "execution_count": 1067,
     "metadata": {},
     "output_type": "execute_result"
    }
   ],
   "source": [
    "df_transformed[\"total_emi_per_month\"].unique()"
   ]
  },
  {
   "cell_type": "code",
   "execution_count": 1068,
   "id": "3f488c4d",
   "metadata": {},
   "outputs": [
    {
     "data": {
      "text/plain": [
       "array(['80.41529543900253', '118.28022162236736', '81.699521264648', ...,\n",
       "       '24.02847744864441', '251.67258219721603', '167.1638651610451'],\n",
       "      dtype=object)"
      ]
     },
     "execution_count": 1068,
     "metadata": {},
     "output_type": "execute_result"
    }
   ],
   "source": [
    "df_transformed[\"amount_invested_monthly\"].unique()"
   ]
  },
  {
   "cell_type": "code",
   "execution_count": 1069,
   "id": "d53efe05",
   "metadata": {},
   "outputs": [],
   "source": [
    "df_transformed['amount_invested_monthly'] = df_transformed['amount_invested_monthly'].replace(np.nan,0)"
   ]
  },
  {
   "cell_type": "code",
   "execution_count": 1070,
   "id": "b66bab52",
   "metadata": {},
   "outputs": [
    {
     "data": {
      "text/plain": [
       "0"
      ]
     },
     "execution_count": 1070,
     "metadata": {},
     "output_type": "execute_result"
    }
   ],
   "source": [
    "df_transformed['amount_invested_monthly'].isnull().sum()"
   ]
  },
  {
   "cell_type": "code",
   "execution_count": 1071,
   "id": "c937908a",
   "metadata": {},
   "outputs": [
    {
     "data": {
      "text/plain": [
       "array(['809.98', '605.03', '1303.01', ..., '3571.7_', '3571.7', '502.38'],\n",
       "      dtype=object)"
      ]
     },
     "execution_count": 1071,
     "metadata": {},
     "output_type": "execute_result"
    }
   ],
   "source": [
    "df_transformed['outstanding_debt'].unique()"
   ]
  },
  {
   "cell_type": "code",
   "execution_count": 1072,
   "id": "be8f067a",
   "metadata": {},
   "outputs": [],
   "source": [
    "df_transformed['outstanding_debt'] = df_transformed['outstanding_debt'].str.replace('_','')"
   ]
  },
  {
   "cell_type": "code",
   "execution_count": 1073,
   "id": "f5e779b9",
   "metadata": {},
   "outputs": [
    {
     "data": {
      "application/vnd.microsoft.datawrangler.viewer.v0+json": {
       "columns": [
        {
         "name": "index",
         "rawType": "object",
         "type": "string"
        },
        {
         "name": "0",
         "rawType": "int64",
         "type": "integer"
        }
       ],
       "ref": "00e81685-f19e-4de6-99e2-dae9f088b46f",
       "rows": [
        [
         "annual_income",
         "0"
        ],
        [
         "monthly_inhand_salary",
         "0"
        ],
        [
         "num_bank_accounts",
         "0"
        ],
        [
         "num_credit_card",
         "0"
        ],
        [
         "interest_rate",
         "0"
        ],
        [
         "num_of_loan",
         "0"
        ],
        [
         "delay_from_due_date",
         "0"
        ],
        [
         "num_of_delayed_payment",
         "0"
        ],
        [
         "changed_credit_limit",
         "0"
        ],
        [
         "num_credit_inquiries",
         "0"
        ],
        [
         "credit_mix",
         "0"
        ],
        [
         "outstanding_debt",
         "0"
        ],
        [
         "credit_utilization_ratio",
         "0"
        ],
        [
         "payment_of_min_amount",
         "0"
        ],
        [
         "total_emi_per_month",
         "0"
        ],
        [
         "amount_invested_monthly",
         "0"
        ],
        [
         "monthly_balance",
         "0"
        ],
        [
         "credit_score",
         "0"
        ]
       ],
       "shape": {
        "columns": 1,
        "rows": 18
       }
      },
      "text/plain": [
       "annual_income               0\n",
       "monthly_inhand_salary       0\n",
       "num_bank_accounts           0\n",
       "num_credit_card             0\n",
       "interest_rate               0\n",
       "num_of_loan                 0\n",
       "delay_from_due_date         0\n",
       "num_of_delayed_payment      0\n",
       "changed_credit_limit        0\n",
       "num_credit_inquiries        0\n",
       "credit_mix                  0\n",
       "outstanding_debt            0\n",
       "credit_utilization_ratio    0\n",
       "payment_of_min_amount       0\n",
       "total_emi_per_month         0\n",
       "amount_invested_monthly     0\n",
       "monthly_balance             0\n",
       "credit_score                0\n",
       "dtype: int64"
      ]
     },
     "execution_count": 1073,
     "metadata": {},
     "output_type": "execute_result"
    }
   ],
   "source": [
    "df_transformed.isnull().sum()"
   ]
  },
  {
   "cell_type": "markdown",
   "id": "f180b562",
   "metadata": {},
   "source": [
    "Convertendo os tipos de dados para cada coluna, convertendo os tipos adequados, ou seja, valores numericos deverao ser convertidos para inteiro."
   ]
  },
  {
   "cell_type": "code",
   "execution_count": 1074,
   "id": "df1f9e3e",
   "metadata": {},
   "outputs": [
    {
     "name": "stdout",
     "output_type": "stream",
     "text": [
      "<class 'pandas.core.frame.DataFrame'>\n",
      "RangeIndex: 100000 entries, 0 to 99999\n",
      "Data columns (total 18 columns):\n",
      " #   Column                    Non-Null Count   Dtype  \n",
      "---  ------                    --------------   -----  \n",
      " 0   annual_income             100000 non-null  float64\n",
      " 1   monthly_inhand_salary     100000 non-null  float64\n",
      " 2   num_bank_accounts         100000 non-null  int64  \n",
      " 3   num_credit_card           100000 non-null  int64  \n",
      " 4   interest_rate             100000 non-null  int64  \n",
      " 5   num_of_loan               100000 non-null  int64  \n",
      " 6   delay_from_due_date       100000 non-null  int64  \n",
      " 7   num_of_delayed_payment    100000 non-null  int64  \n",
      " 8   changed_credit_limit      100000 non-null  float64\n",
      " 9   num_credit_inquiries      100000 non-null  float64\n",
      " 10  credit_mix                100000 non-null  object \n",
      " 11  outstanding_debt          100000 non-null  float64\n",
      " 12  credit_utilization_ratio  100000 non-null  float64\n",
      " 13  payment_of_min_amount     100000 non-null  object \n",
      " 14  total_emi_per_month       100000 non-null  float64\n",
      " 15  amount_invested_monthly   100000 non-null  float64\n",
      " 16  monthly_balance           100000 non-null  float64\n",
      " 17  credit_score              100000 non-null  object \n",
      "dtypes: float64(9), int64(6), object(3)\n",
      "memory usage: 13.7+ MB\n"
     ]
    }
   ],
   "source": [
    "\n",
    "df_transformed['annual_income'] = df_transformed['annual_income'].astype(float)\n",
    "df_transformed['outstanding_debt'] = df_transformed['outstanding_debt'].astype(float)\n",
    "df_transformed['num_of_loan'] = pd.to_numeric(df_transformed['num_of_loan'], errors='coerce').fillna(0).astype(np.int64)\n",
    "df_transformed['num_of_delayed_payment'] = pd.to_numeric(df_transformed['num_of_delayed_payment'], errors='coerce').fillna(0).astype(np.int64)\n",
    "df_transformed['monthly_balance'] = df_transformed['monthly_balance'].astype(float)\n",
    "df_transformed['amount_invested_monthly'] = df_transformed['amount_invested_monthly'].astype(float)\n",
    "df_transformed['changed_credit_limit'] = df_transformed['changed_credit_limit'].astype(float)\n",
    "\n",
    "df_transformed.info()"
   ]
  },
  {
   "cell_type": "code",
   "execution_count": 1075,
   "id": "98a4a95d",
   "metadata": {},
   "outputs": [
    {
     "data": {
      "text/plain": [
       "0"
      ]
     },
     "execution_count": 1075,
     "metadata": {},
     "output_type": "execute_result"
    }
   ],
   "source": [
    "df_transformed.duplicated().sum()"
   ]
  },
  {
   "cell_type": "markdown",
   "id": "97b13ee2",
   "metadata": {},
   "source": [
    "One-Hot Enconding"
   ]
  },
  {
   "cell_type": "code",
   "execution_count": 1076,
   "id": "fadc323c",
   "metadata": {},
   "outputs": [
    {
     "data": {
      "application/vnd.microsoft.datawrangler.viewer.v0+json": {
       "columns": [
        {
         "name": "index",
         "rawType": "int64",
         "type": "integer"
        },
        {
         "name": "annual_income",
         "rawType": "float64",
         "type": "float"
        },
        {
         "name": "monthly_inhand_salary",
         "rawType": "float64",
         "type": "float"
        },
        {
         "name": "num_bank_accounts",
         "rawType": "int64",
         "type": "integer"
        },
        {
         "name": "num_credit_card",
         "rawType": "int64",
         "type": "integer"
        },
        {
         "name": "interest_rate",
         "rawType": "int64",
         "type": "integer"
        },
        {
         "name": "num_of_loan",
         "rawType": "int64",
         "type": "integer"
        },
        {
         "name": "delay_from_due_date",
         "rawType": "int64",
         "type": "integer"
        },
        {
         "name": "num_of_delayed_payment",
         "rawType": "int64",
         "type": "integer"
        },
        {
         "name": "changed_credit_limit",
         "rawType": "float64",
         "type": "float"
        },
        {
         "name": "num_credit_inquiries",
         "rawType": "float64",
         "type": "float"
        },
        {
         "name": "outstanding_debt",
         "rawType": "float64",
         "type": "float"
        },
        {
         "name": "credit_utilization_ratio",
         "rawType": "float64",
         "type": "float"
        },
        {
         "name": "total_emi_per_month",
         "rawType": "float64",
         "type": "float"
        },
        {
         "name": "amount_invested_monthly",
         "rawType": "float64",
         "type": "float"
        },
        {
         "name": "monthly_balance",
         "rawType": "float64",
         "type": "float"
        },
        {
         "name": "credit_mix_Bad",
         "rawType": "int32",
         "type": "integer"
        },
        {
         "name": "credit_mix_Good",
         "rawType": "int32",
         "type": "integer"
        },
        {
         "name": "credit_mix_None",
         "rawType": "int32",
         "type": "integer"
        },
        {
         "name": "credit_mix_Standard",
         "rawType": "int32",
         "type": "integer"
        },
        {
         "name": "payment_of_min_amount_No",
         "rawType": "int32",
         "type": "integer"
        },
        {
         "name": "payment_of_min_amount_None",
         "rawType": "int32",
         "type": "integer"
        },
        {
         "name": "payment_of_min_amount_Yes",
         "rawType": "int32",
         "type": "integer"
        },
        {
         "name": "credit_score_Good",
         "rawType": "int32",
         "type": "integer"
        },
        {
         "name": "credit_score_Poor",
         "rawType": "int32",
         "type": "integer"
        },
        {
         "name": "credit_score_Standard",
         "rawType": "int32",
         "type": "integer"
        }
       ],
       "ref": "fb43d5c6-6348-4eac-9584-19cc6051a8cb",
       "rows": [
        [
         "0",
         "19114.12",
         "1824.8433333333328",
         "3",
         "4",
         "3",
         "4",
         "3",
         "7",
         "11.27",
         "4.0",
         "809.98",
         "26.822619623699016",
         "49.57494921489417",
         "80.41529543900253",
         "312.49408867943663",
         "0",
         "0",
         "1",
         "0",
         "1",
         "0",
         "0",
         "1",
         "0",
         "0"
        ],
        [
         "1",
         "19114.12",
         "0.0",
         "3",
         "4",
         "3",
         "4",
         "0",
         "0",
         "11.27",
         "4.0",
         "809.98",
         "31.94496005538421",
         "49.57494921489417",
         "118.28022162236736",
         "284.62916249607184",
         "0",
         "1",
         "0",
         "0",
         "1",
         "0",
         "0",
         "1",
         "0",
         "0"
        ],
        [
         "2",
         "19114.12",
         "0.0",
         "3",
         "4",
         "3",
         "4",
         "3",
         "7",
         "0.0",
         "4.0",
         "809.98",
         "28.60935202206993",
         "49.57494921489417",
         "81.699521264648",
         "331.2098628537912",
         "0",
         "1",
         "0",
         "0",
         "1",
         "0",
         "0",
         "1",
         "0",
         "0"
        ],
        [
         "3",
         "19114.12",
         "0.0",
         "3",
         "4",
         "3",
         "4",
         "5",
         "4",
         "6.27",
         "4.0",
         "809.98",
         "31.377861869582357",
         "49.57494921489417",
         "199.4580743910713",
         "223.45130972736786",
         "0",
         "1",
         "0",
         "0",
         "1",
         "0",
         "0",
         "1",
         "0",
         "0"
        ],
        [
         "4",
         "19114.12",
         "1824.8433333333328",
         "3",
         "4",
         "3",
         "4",
         "6",
         "0",
         "11.27",
         "4.0",
         "809.98",
         "24.797346908844982",
         "49.57494921489417",
         "41.420153086217326",
         "341.48923103222177",
         "0",
         "1",
         "0",
         "0",
         "1",
         "0",
         "0",
         "1",
         "0",
         "0"
        ]
       ],
       "shape": {
        "columns": 25,
        "rows": 5
       }
      },
      "text/html": [
       "<div>\n",
       "<style scoped>\n",
       "    .dataframe tbody tr th:only-of-type {\n",
       "        vertical-align: middle;\n",
       "    }\n",
       "\n",
       "    .dataframe tbody tr th {\n",
       "        vertical-align: top;\n",
       "    }\n",
       "\n",
       "    .dataframe thead th {\n",
       "        text-align: right;\n",
       "    }\n",
       "</style>\n",
       "<table border=\"1\" class=\"dataframe\">\n",
       "  <thead>\n",
       "    <tr style=\"text-align: right;\">\n",
       "      <th></th>\n",
       "      <th>annual_income</th>\n",
       "      <th>monthly_inhand_salary</th>\n",
       "      <th>num_bank_accounts</th>\n",
       "      <th>num_credit_card</th>\n",
       "      <th>interest_rate</th>\n",
       "      <th>num_of_loan</th>\n",
       "      <th>delay_from_due_date</th>\n",
       "      <th>num_of_delayed_payment</th>\n",
       "      <th>changed_credit_limit</th>\n",
       "      <th>num_credit_inquiries</th>\n",
       "      <th>...</th>\n",
       "      <th>credit_mix_Bad</th>\n",
       "      <th>credit_mix_Good</th>\n",
       "      <th>credit_mix_None</th>\n",
       "      <th>credit_mix_Standard</th>\n",
       "      <th>payment_of_min_amount_No</th>\n",
       "      <th>payment_of_min_amount_None</th>\n",
       "      <th>payment_of_min_amount_Yes</th>\n",
       "      <th>credit_score_Good</th>\n",
       "      <th>credit_score_Poor</th>\n",
       "      <th>credit_score_Standard</th>\n",
       "    </tr>\n",
       "  </thead>\n",
       "  <tbody>\n",
       "    <tr>\n",
       "      <th>0</th>\n",
       "      <td>19114.12</td>\n",
       "      <td>1824.843333</td>\n",
       "      <td>3</td>\n",
       "      <td>4</td>\n",
       "      <td>3</td>\n",
       "      <td>4</td>\n",
       "      <td>3</td>\n",
       "      <td>7</td>\n",
       "      <td>11.27</td>\n",
       "      <td>4.0</td>\n",
       "      <td>...</td>\n",
       "      <td>0</td>\n",
       "      <td>0</td>\n",
       "      <td>1</td>\n",
       "      <td>0</td>\n",
       "      <td>1</td>\n",
       "      <td>0</td>\n",
       "      <td>0</td>\n",
       "      <td>1</td>\n",
       "      <td>0</td>\n",
       "      <td>0</td>\n",
       "    </tr>\n",
       "    <tr>\n",
       "      <th>1</th>\n",
       "      <td>19114.12</td>\n",
       "      <td>0.000000</td>\n",
       "      <td>3</td>\n",
       "      <td>4</td>\n",
       "      <td>3</td>\n",
       "      <td>4</td>\n",
       "      <td>0</td>\n",
       "      <td>0</td>\n",
       "      <td>11.27</td>\n",
       "      <td>4.0</td>\n",
       "      <td>...</td>\n",
       "      <td>0</td>\n",
       "      <td>1</td>\n",
       "      <td>0</td>\n",
       "      <td>0</td>\n",
       "      <td>1</td>\n",
       "      <td>0</td>\n",
       "      <td>0</td>\n",
       "      <td>1</td>\n",
       "      <td>0</td>\n",
       "      <td>0</td>\n",
       "    </tr>\n",
       "    <tr>\n",
       "      <th>2</th>\n",
       "      <td>19114.12</td>\n",
       "      <td>0.000000</td>\n",
       "      <td>3</td>\n",
       "      <td>4</td>\n",
       "      <td>3</td>\n",
       "      <td>4</td>\n",
       "      <td>3</td>\n",
       "      <td>7</td>\n",
       "      <td>0.00</td>\n",
       "      <td>4.0</td>\n",
       "      <td>...</td>\n",
       "      <td>0</td>\n",
       "      <td>1</td>\n",
       "      <td>0</td>\n",
       "      <td>0</td>\n",
       "      <td>1</td>\n",
       "      <td>0</td>\n",
       "      <td>0</td>\n",
       "      <td>1</td>\n",
       "      <td>0</td>\n",
       "      <td>0</td>\n",
       "    </tr>\n",
       "    <tr>\n",
       "      <th>3</th>\n",
       "      <td>19114.12</td>\n",
       "      <td>0.000000</td>\n",
       "      <td>3</td>\n",
       "      <td>4</td>\n",
       "      <td>3</td>\n",
       "      <td>4</td>\n",
       "      <td>5</td>\n",
       "      <td>4</td>\n",
       "      <td>6.27</td>\n",
       "      <td>4.0</td>\n",
       "      <td>...</td>\n",
       "      <td>0</td>\n",
       "      <td>1</td>\n",
       "      <td>0</td>\n",
       "      <td>0</td>\n",
       "      <td>1</td>\n",
       "      <td>0</td>\n",
       "      <td>0</td>\n",
       "      <td>1</td>\n",
       "      <td>0</td>\n",
       "      <td>0</td>\n",
       "    </tr>\n",
       "    <tr>\n",
       "      <th>4</th>\n",
       "      <td>19114.12</td>\n",
       "      <td>1824.843333</td>\n",
       "      <td>3</td>\n",
       "      <td>4</td>\n",
       "      <td>3</td>\n",
       "      <td>4</td>\n",
       "      <td>6</td>\n",
       "      <td>0</td>\n",
       "      <td>11.27</td>\n",
       "      <td>4.0</td>\n",
       "      <td>...</td>\n",
       "      <td>0</td>\n",
       "      <td>1</td>\n",
       "      <td>0</td>\n",
       "      <td>0</td>\n",
       "      <td>1</td>\n",
       "      <td>0</td>\n",
       "      <td>0</td>\n",
       "      <td>1</td>\n",
       "      <td>0</td>\n",
       "      <td>0</td>\n",
       "    </tr>\n",
       "  </tbody>\n",
       "</table>\n",
       "<p>5 rows × 25 columns</p>\n",
       "</div>"
      ],
      "text/plain": [
       "   annual_income  monthly_inhand_salary  num_bank_accounts  num_credit_card  \\\n",
       "0       19114.12            1824.843333                  3                4   \n",
       "1       19114.12               0.000000                  3                4   \n",
       "2       19114.12               0.000000                  3                4   \n",
       "3       19114.12               0.000000                  3                4   \n",
       "4       19114.12            1824.843333                  3                4   \n",
       "\n",
       "   interest_rate  num_of_loan  delay_from_due_date  num_of_delayed_payment  \\\n",
       "0              3            4                    3                       7   \n",
       "1              3            4                    0                       0   \n",
       "2              3            4                    3                       7   \n",
       "3              3            4                    5                       4   \n",
       "4              3            4                    6                       0   \n",
       "\n",
       "   changed_credit_limit  num_credit_inquiries  ...  credit_mix_Bad  \\\n",
       "0                 11.27                   4.0  ...               0   \n",
       "1                 11.27                   4.0  ...               0   \n",
       "2                  0.00                   4.0  ...               0   \n",
       "3                  6.27                   4.0  ...               0   \n",
       "4                 11.27                   4.0  ...               0   \n",
       "\n",
       "   credit_mix_Good  credit_mix_None  credit_mix_Standard  \\\n",
       "0                0                1                    0   \n",
       "1                1                0                    0   \n",
       "2                1                0                    0   \n",
       "3                1                0                    0   \n",
       "4                1                0                    0   \n",
       "\n",
       "   payment_of_min_amount_No  payment_of_min_amount_None  \\\n",
       "0                         1                           0   \n",
       "1                         1                           0   \n",
       "2                         1                           0   \n",
       "3                         1                           0   \n",
       "4                         1                           0   \n",
       "\n",
       "   payment_of_min_amount_Yes  credit_score_Good  credit_score_Poor  \\\n",
       "0                          0                  1                  0   \n",
       "1                          0                  1                  0   \n",
       "2                          0                  1                  0   \n",
       "3                          0                  1                  0   \n",
       "4                          0                  1                  0   \n",
       "\n",
       "   credit_score_Standard  \n",
       "0                      0  \n",
       "1                      0  \n",
       "2                      0  \n",
       "3                      0  \n",
       "4                      0  \n",
       "\n",
       "[5 rows x 25 columns]"
      ]
     },
     "execution_count": 1076,
     "metadata": {},
     "output_type": "execute_result"
    }
   ],
   "source": [
    "df_transformed = pd.get_dummies(df_transformed, dtype=int, columns=['credit_mix'], prefix='credit_mix')\n",
    "df_transformed = pd.get_dummies(df_transformed, dtype=int, columns=['payment_of_min_amount'], prefix='payment_of_min_amount')\n",
    "df_transformed = pd.get_dummies(df_transformed, dtype=int, columns=['credit_score'], prefix='credit_score')\n",
    "\n",
    "df_transformed.head()"
   ]
  },
  {
   "cell_type": "code",
   "execution_count": 1077,
   "id": "3c9dc832",
   "metadata": {},
   "outputs": [
    {
     "data": {
      "text/plain": [
       "(100000, 25)"
      ]
     },
     "execution_count": 1077,
     "metadata": {},
     "output_type": "execute_result"
    }
   ],
   "source": [
    "df_transformed.shape"
   ]
  },
  {
   "cell_type": "markdown",
   "id": "ab702be4",
   "metadata": {},
   "source": [
    "## Export"
   ]
  },
  {
   "cell_type": "code",
   "execution_count": 1078,
   "id": "c1fcbed2",
   "metadata": {},
   "outputs": [],
   "source": [
    "df_transformed.to_csv('../data/processed/credit-score-processed.csv', index=False)"
   ]
  }
 ],
 "metadata": {
  "kernelspec": {
   "display_name": "tf-env",
   "language": "python",
   "name": "python3"
  },
  "language_info": {
   "codemirror_mode": {
    "name": "ipython",
    "version": 3
   },
   "file_extension": ".py",
   "mimetype": "text/x-python",
   "name": "python",
   "nbconvert_exporter": "python",
   "pygments_lexer": "ipython3",
   "version": "3.11.13"
  }
 },
 "nbformat": 4,
 "nbformat_minor": 5
}
